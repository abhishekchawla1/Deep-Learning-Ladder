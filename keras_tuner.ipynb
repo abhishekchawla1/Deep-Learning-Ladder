{
 "cells": [
  {
   "cell_type": "code",
   "execution_count": 1,
   "id": "48c4305c",
   "metadata": {},
   "outputs": [
    {
     "name": "stderr",
     "output_type": "stream",
     "text": [
      "C:\\Users\\ASUS\\AppData\\Roaming\\Python\\Python310\\site-packages\\pandas\\core\\arrays\\masked.py:60: UserWarning: Pandas requires version '1.3.6' or newer of 'bottleneck' (version '1.3.5' currently installed).\n",
      "  from pandas.core import (\n"
     ]
    },
    {
     "name": "stdout",
     "output_type": "stream",
     "text": [
      "WARNING:tensorflow:From C:\\Users\\ASUS\\AppData\\Roaming\\Python\\Python310\\site-packages\\keras\\src\\losses.py:2976: The name tf.losses.sparse_softmax_cross_entropy is deprecated. Please use tf.compat.v1.losses.sparse_softmax_cross_entropy instead.\n",
      "\n"
     ]
    }
   ],
   "source": [
    "import pandas as pd\n",
    "import numpy as np\n",
    "import tensorflow as tf\n",
    "import tensorflow.keras"
   ]
  },
  {
   "cell_type": "code",
   "execution_count": 7,
   "id": "9af5a3e2",
   "metadata": {},
   "outputs": [],
   "source": [
    "df=pd.read_csv(r\"C:\\Users\\ASUS\\Downloads\\pima-indians-diabetes.csv\",header=None)"
   ]
  },
  {
   "cell_type": "code",
   "execution_count": 8,
   "id": "332637fd",
   "metadata": {},
   "outputs": [
    {
     "data": {
      "text/html": [
       "<div>\n",
       "<style scoped>\n",
       "    .dataframe tbody tr th:only-of-type {\n",
       "        vertical-align: middle;\n",
       "    }\n",
       "\n",
       "    .dataframe tbody tr th {\n",
       "        vertical-align: top;\n",
       "    }\n",
       "\n",
       "    .dataframe thead th {\n",
       "        text-align: right;\n",
       "    }\n",
       "</style>\n",
       "<table border=\"1\" class=\"dataframe\">\n",
       "  <thead>\n",
       "    <tr style=\"text-align: right;\">\n",
       "      <th></th>\n",
       "      <th>0</th>\n",
       "      <th>1</th>\n",
       "      <th>2</th>\n",
       "      <th>3</th>\n",
       "      <th>4</th>\n",
       "      <th>5</th>\n",
       "      <th>6</th>\n",
       "      <th>7</th>\n",
       "      <th>8</th>\n",
       "    </tr>\n",
       "  </thead>\n",
       "  <tbody>\n",
       "    <tr>\n",
       "      <th>0</th>\n",
       "      <td>6</td>\n",
       "      <td>148</td>\n",
       "      <td>72</td>\n",
       "      <td>35</td>\n",
       "      <td>0</td>\n",
       "      <td>33.6</td>\n",
       "      <td>0.627</td>\n",
       "      <td>50</td>\n",
       "      <td>1</td>\n",
       "    </tr>\n",
       "    <tr>\n",
       "      <th>1</th>\n",
       "      <td>1</td>\n",
       "      <td>85</td>\n",
       "      <td>66</td>\n",
       "      <td>29</td>\n",
       "      <td>0</td>\n",
       "      <td>26.6</td>\n",
       "      <td>0.351</td>\n",
       "      <td>31</td>\n",
       "      <td>0</td>\n",
       "    </tr>\n",
       "    <tr>\n",
       "      <th>2</th>\n",
       "      <td>8</td>\n",
       "      <td>183</td>\n",
       "      <td>64</td>\n",
       "      <td>0</td>\n",
       "      <td>0</td>\n",
       "      <td>23.3</td>\n",
       "      <td>0.672</td>\n",
       "      <td>32</td>\n",
       "      <td>1</td>\n",
       "    </tr>\n",
       "    <tr>\n",
       "      <th>3</th>\n",
       "      <td>1</td>\n",
       "      <td>89</td>\n",
       "      <td>66</td>\n",
       "      <td>23</td>\n",
       "      <td>94</td>\n",
       "      <td>28.1</td>\n",
       "      <td>0.167</td>\n",
       "      <td>21</td>\n",
       "      <td>0</td>\n",
       "    </tr>\n",
       "    <tr>\n",
       "      <th>4</th>\n",
       "      <td>0</td>\n",
       "      <td>137</td>\n",
       "      <td>40</td>\n",
       "      <td>35</td>\n",
       "      <td>168</td>\n",
       "      <td>43.1</td>\n",
       "      <td>2.288</td>\n",
       "      <td>33</td>\n",
       "      <td>1</td>\n",
       "    </tr>\n",
       "    <tr>\n",
       "      <th>...</th>\n",
       "      <td>...</td>\n",
       "      <td>...</td>\n",
       "      <td>...</td>\n",
       "      <td>...</td>\n",
       "      <td>...</td>\n",
       "      <td>...</td>\n",
       "      <td>...</td>\n",
       "      <td>...</td>\n",
       "      <td>...</td>\n",
       "    </tr>\n",
       "    <tr>\n",
       "      <th>763</th>\n",
       "      <td>10</td>\n",
       "      <td>101</td>\n",
       "      <td>76</td>\n",
       "      <td>48</td>\n",
       "      <td>180</td>\n",
       "      <td>32.9</td>\n",
       "      <td>0.171</td>\n",
       "      <td>63</td>\n",
       "      <td>0</td>\n",
       "    </tr>\n",
       "    <tr>\n",
       "      <th>764</th>\n",
       "      <td>2</td>\n",
       "      <td>122</td>\n",
       "      <td>70</td>\n",
       "      <td>27</td>\n",
       "      <td>0</td>\n",
       "      <td>36.8</td>\n",
       "      <td>0.340</td>\n",
       "      <td>27</td>\n",
       "      <td>0</td>\n",
       "    </tr>\n",
       "    <tr>\n",
       "      <th>765</th>\n",
       "      <td>5</td>\n",
       "      <td>121</td>\n",
       "      <td>72</td>\n",
       "      <td>23</td>\n",
       "      <td>112</td>\n",
       "      <td>26.2</td>\n",
       "      <td>0.245</td>\n",
       "      <td>30</td>\n",
       "      <td>0</td>\n",
       "    </tr>\n",
       "    <tr>\n",
       "      <th>766</th>\n",
       "      <td>1</td>\n",
       "      <td>126</td>\n",
       "      <td>60</td>\n",
       "      <td>0</td>\n",
       "      <td>0</td>\n",
       "      <td>30.1</td>\n",
       "      <td>0.349</td>\n",
       "      <td>47</td>\n",
       "      <td>1</td>\n",
       "    </tr>\n",
       "    <tr>\n",
       "      <th>767</th>\n",
       "      <td>1</td>\n",
       "      <td>93</td>\n",
       "      <td>70</td>\n",
       "      <td>31</td>\n",
       "      <td>0</td>\n",
       "      <td>30.4</td>\n",
       "      <td>0.315</td>\n",
       "      <td>23</td>\n",
       "      <td>0</td>\n",
       "    </tr>\n",
       "  </tbody>\n",
       "</table>\n",
       "<p>768 rows × 9 columns</p>\n",
       "</div>"
      ],
      "text/plain": [
       "      0    1   2   3    4     5      6   7  8\n",
       "0     6  148  72  35    0  33.6  0.627  50  1\n",
       "1     1   85  66  29    0  26.6  0.351  31  0\n",
       "2     8  183  64   0    0  23.3  0.672  32  1\n",
       "3     1   89  66  23   94  28.1  0.167  21  0\n",
       "4     0  137  40  35  168  43.1  2.288  33  1\n",
       "..   ..  ...  ..  ..  ...   ...    ...  .. ..\n",
       "763  10  101  76  48  180  32.9  0.171  63  0\n",
       "764   2  122  70  27    0  36.8  0.340  27  0\n",
       "765   5  121  72  23  112  26.2  0.245  30  0\n",
       "766   1  126  60   0    0  30.1  0.349  47  1\n",
       "767   1   93  70  31    0  30.4  0.315  23  0\n",
       "\n",
       "[768 rows x 9 columns]"
      ]
     },
     "execution_count": 8,
     "metadata": {},
     "output_type": "execute_result"
    }
   ],
   "source": [
    "df"
   ]
  },
  {
   "cell_type": "code",
   "execution_count": 4,
   "id": "d78c3128",
   "metadata": {},
   "outputs": [],
   "source": [
    "from tensorflow.keras.layers import Dense,Dropout"
   ]
  },
  {
   "cell_type": "code",
   "execution_count": 5,
   "id": "ba223294",
   "metadata": {},
   "outputs": [],
   "source": [
    "from tensorflow.keras.models import Sequential"
   ]
  },
  {
   "cell_type": "code",
   "execution_count": 11,
   "id": "5f346580",
   "metadata": {},
   "outputs": [
    {
     "data": {
      "text/plain": [
       "<Axes: >"
      ]
     },
     "execution_count": 11,
     "metadata": {},
     "output_type": "execute_result"
    },
    {
     "data": {
      "image/png": "[encoded data removed]",
      "text/plain": [
       "<Figure size 640x480 with 2 Axes>"
      ]
     },
     "metadata": {},
     "output_type": "display_data"
    }
   ],
   "source": [
    "import seaborn as sns\n",
    "sns.heatmap(df.corr(),annot=True,fmt='0.2f')"
   ]
  },
  {
   "cell_type": "code",
   "execution_count": 12,
   "id": "ad6a8a0c",
   "metadata": {},
   "outputs": [],
   "source": [
    "X=df.iloc[:,:-1]\n",
    "y=df.iloc[:,-1]"
   ]
  },
  {
   "cell_type": "code",
   "execution_count": 13,
   "id": "c8194ef4",
   "metadata": {},
   "outputs": [
    {
     "data": {
      "text/html": [
       "<div>\n",
       "<style scoped>\n",
       "    .dataframe tbody tr th:only-of-type {\n",
       "        vertical-align: middle;\n",
       "    }\n",
       "\n",
       "    .dataframe tbody tr th {\n",
       "        vertical-align: top;\n",
       "    }\n",
       "\n",
       "    .dataframe thead th {\n",
       "        text-align: right;\n",
       "    }\n",
       "</style>\n",
       "<table border=\"1\" class=\"dataframe\">\n",
       "  <thead>\n",
       "    <tr style=\"text-align: right;\">\n",
       "      <th></th>\n",
       "      <th>0</th>\n",
       "      <th>1</th>\n",
       "      <th>2</th>\n",
       "      <th>3</th>\n",
       "      <th>4</th>\n",
       "      <th>5</th>\n",
       "      <th>6</th>\n",
       "      <th>7</th>\n",
       "    </tr>\n",
       "  </thead>\n",
       "  <tbody>\n",
       "    <tr>\n",
       "      <th>0</th>\n",
       "      <td>6</td>\n",
       "      <td>148</td>\n",
       "      <td>72</td>\n",
       "      <td>35</td>\n",
       "      <td>0</td>\n",
       "      <td>33.6</td>\n",
       "      <td>0.627</td>\n",
       "      <td>50</td>\n",
       "    </tr>\n",
       "    <tr>\n",
       "      <th>1</th>\n",
       "      <td>1</td>\n",
       "      <td>85</td>\n",
       "      <td>66</td>\n",
       "      <td>29</td>\n",
       "      <td>0</td>\n",
       "      <td>26.6</td>\n",
       "      <td>0.351</td>\n",
       "      <td>31</td>\n",
       "    </tr>\n",
       "    <tr>\n",
       "      <th>2</th>\n",
       "      <td>8</td>\n",
       "      <td>183</td>\n",
       "      <td>64</td>\n",
       "      <td>0</td>\n",
       "      <td>0</td>\n",
       "      <td>23.3</td>\n",
       "      <td>0.672</td>\n",
       "      <td>32</td>\n",
       "    </tr>\n",
       "    <tr>\n",
       "      <th>3</th>\n",
       "      <td>1</td>\n",
       "      <td>89</td>\n",
       "      <td>66</td>\n",
       "      <td>23</td>\n",
       "      <td>94</td>\n",
       "      <td>28.1</td>\n",
       "      <td>0.167</td>\n",
       "      <td>21</td>\n",
       "    </tr>\n",
       "    <tr>\n",
       "      <th>4</th>\n",
       "      <td>0</td>\n",
       "      <td>137</td>\n",
       "      <td>40</td>\n",
       "      <td>35</td>\n",
       "      <td>168</td>\n",
       "      <td>43.1</td>\n",
       "      <td>2.288</td>\n",
       "      <td>33</td>\n",
       "    </tr>\n",
       "    <tr>\n",
       "      <th>...</th>\n",
       "      <td>...</td>\n",
       "      <td>...</td>\n",
       "      <td>...</td>\n",
       "      <td>...</td>\n",
       "      <td>...</td>\n",
       "      <td>...</td>\n",
       "      <td>...</td>\n",
       "      <td>...</td>\n",
       "    </tr>\n",
       "    <tr>\n",
       "      <th>763</th>\n",
       "      <td>10</td>\n",
       "      <td>101</td>\n",
       "      <td>76</td>\n",
       "      <td>48</td>\n",
       "      <td>180</td>\n",
       "      <td>32.9</td>\n",
       "      <td>0.171</td>\n",
       "      <td>63</td>\n",
       "    </tr>\n",
       "    <tr>\n",
       "      <th>764</th>\n",
       "      <td>2</td>\n",
       "      <td>122</td>\n",
       "      <td>70</td>\n",
       "      <td>27</td>\n",
       "      <td>0</td>\n",
       "      <td>36.8</td>\n",
       "      <td>0.340</td>\n",
       "      <td>27</td>\n",
       "    </tr>\n",
       "    <tr>\n",
       "      <th>765</th>\n",
       "      <td>5</td>\n",
       "      <td>121</td>\n",
       "      <td>72</td>\n",
       "      <td>23</td>\n",
       "      <td>112</td>\n",
       "      <td>26.2</td>\n",
       "      <td>0.245</td>\n",
       "      <td>30</td>\n",
       "    </tr>\n",
       "    <tr>\n",
       "      <th>766</th>\n",
       "      <td>1</td>\n",
       "      <td>126</td>\n",
       "      <td>60</td>\n",
       "      <td>0</td>\n",
       "      <td>0</td>\n",
       "      <td>30.1</td>\n",
       "      <td>0.349</td>\n",
       "      <td>47</td>\n",
       "    </tr>\n",
       "    <tr>\n",
       "      <th>767</th>\n",
       "      <td>1</td>\n",
       "      <td>93</td>\n",
       "      <td>70</td>\n",
       "      <td>31</td>\n",
       "      <td>0</td>\n",
       "      <td>30.4</td>\n",
       "      <td>0.315</td>\n",
       "      <td>23</td>\n",
       "    </tr>\n",
       "  </tbody>\n",
       "</table>\n",
       "<p>768 rows × 8 columns</p>\n",
       "</div>"
      ],
      "text/plain": [
       "      0    1   2   3    4     5      6   7\n",
       "0     6  148  72  35    0  33.6  0.627  50\n",
       "1     1   85  66  29    0  26.6  0.351  31\n",
       "2     8  183  64   0    0  23.3  0.672  32\n",
       "3     1   89  66  23   94  28.1  0.167  21\n",
       "4     0  137  40  35  168  43.1  2.288  33\n",
       "..   ..  ...  ..  ..  ...   ...    ...  ..\n",
       "763  10  101  76  48  180  32.9  0.171  63\n",
       "764   2  122  70  27    0  36.8  0.340  27\n",
       "765   5  121  72  23  112  26.2  0.245  30\n",
       "766   1  126  60   0    0  30.1  0.349  47\n",
       "767   1   93  70  31    0  30.4  0.315  23\n",
       "\n",
       "[768 rows x 8 columns]"
      ]
     },
     "execution_count": 13,
     "metadata": {},
     "output_type": "execute_result"
    }
   ],
   "source": [
    "X"
   ]
  },
  {
   "cell_type": "code",
   "execution_count": 14,
   "id": "e4c3fffb",
   "metadata": {},
   "outputs": [],
   "source": [
    "from sklearn.preprocessing import StandardScaler"
   ]
  },
  {
   "cell_type": "code",
   "execution_count": 15,
   "id": "a9dd70de",
   "metadata": {},
   "outputs": [],
   "source": [
    "s=StandardScaler()"
   ]
  },
  {
   "cell_type": "code",
   "execution_count": 16,
   "id": "8d1afd10",
   "metadata": {},
   "outputs": [],
   "source": [
    "from sklearn.model_selection import train_test_split"
   ]
  },
  {
   "cell_type": "code",
   "execution_count": 17,
   "id": "6ac054d3",
   "metadata": {},
   "outputs": [],
   "source": [
    "X_train,X_test,y_train,y_test=train_test_split(X,y,random_state=42,test_size=0.2)"
   ]
  },
  {
   "cell_type": "code",
   "execution_count": 18,
   "id": "19656e98",
   "metadata": {},
   "outputs": [],
   "source": [
    "X_train=s.fit_transform(X_train)\n",
    "X_test=s.transform(X_test)"
   ]
  },
  {
   "cell_type": "code",
   "execution_count": 19,
   "id": "aefa9b2a",
   "metadata": {},
   "outputs": [
    {
     "name": "stdout",
     "output_type": "stream",
     "text": [
      "WARNING:tensorflow:From C:\\Users\\ASUS\\AppData\\Roaming\\Python\\Python310\\site-packages\\keras\\src\\backend.py:873: The name tf.get_default_graph is deprecated. Please use tf.compat.v1.get_default_graph instead.\n",
      "\n"
     ]
    }
   ],
   "source": [
    "model=Sequential()\n",
    "model.add(Dense(32,activation='relu',input_dim=8))\n",
    "model.add(Dense(1,activation='sigmoid'))"
   ]
  },
  {
   "cell_type": "code",
   "execution_count": 20,
   "id": "e1935361",
   "metadata": {},
   "outputs": [
    {
     "name": "stdout",
     "output_type": "stream",
     "text": [
      "WARNING:tensorflow:From C:\\Users\\ASUS\\AppData\\Roaming\\Python\\Python310\\site-packages\\keras\\src\\optimizers\\__init__.py:309: The name tf.train.Optimizer is deprecated. Please use tf.compat.v1.train.Optimizer instead.\n",
      "\n"
     ]
    }
   ],
   "source": [
    "model.compile(optimizer='Adam',loss='binary_crossentropy',metrics=['accuracy'])"
   ]
  },
  {
   "cell_type": "code",
   "execution_count": 21,
   "id": "8ab6971b",
   "metadata": {},
   "outputs": [
    {
     "name": "stdout",
     "output_type": "stream",
     "text": [
      "Model: \"sequential\"\n",
      "_________________________________________________________________\n",
      " Layer (type)                Output Shape              Param #   \n",
      "=================================================================\n",
      " dense (Dense)               (None, 32)                288       \n",
      "                                                                 \n",
      " dense_1 (Dense)             (None, 1)                 33        \n",
      "                                                                 \n",
      "=================================================================\n",
      "Total params: 321 (1.25 KB)\n",
      "Trainable params: 321 (1.25 KB)\n",
      "Non-trainable params: 0 (0.00 Byte)\n",
      "_________________________________________________________________\n"
     ]
    }
   ],
   "source": [
    "model.summary()"
   ]
  },
  {
   "cell_type": "code",
   "execution_count": 23,
   "id": "9761639f",
   "metadata": {},
   "outputs": [
    {
     "name": "stdout",
     "output_type": "stream",
     "text": [
      "Epoch 1/50\n",
      "20/20 [==============================] - 0s 11ms/step - loss: 0.4159 - accuracy: 0.7997 - val_loss: 0.5334 - val_accuracy: 0.7532\n",
      "Epoch 2/50\n",
      "20/20 [==============================] - 0s 7ms/step - loss: 0.4147 - accuracy: 0.8013 - val_loss: 0.5356 - val_accuracy: 0.7403\n",
      "Epoch 3/50\n",
      "20/20 [==============================] - 0s 7ms/step - loss: 0.4144 - accuracy: 0.7980 - val_loss: 0.5366 - val_accuracy: 0.7403\n",
      "Epoch 4/50\n",
      "20/20 [==============================] - 0s 7ms/step - loss: 0.4142 - accuracy: 0.7964 - val_loss: 0.5354 - val_accuracy: 0.7532\n",
      "Epoch 5/50\n",
      "20/20 [==============================] - 0s 8ms/step - loss: 0.4133 - accuracy: 0.7980 - val_loss: 0.5357 - val_accuracy: 0.7532\n",
      "Epoch 6/50\n",
      "20/20 [==============================] - 0s 6ms/step - loss: 0.4129 - accuracy: 0.7964 - val_loss: 0.5333 - val_accuracy: 0.7597\n",
      "Epoch 7/50\n",
      "20/20 [==============================] - 0s 5ms/step - loss: 0.4124 - accuracy: 0.7948 - val_loss: 0.5341 - val_accuracy: 0.7597\n",
      "Epoch 8/50\n",
      "20/20 [==============================] - 0s 5ms/step - loss: 0.4117 - accuracy: 0.8029 - val_loss: 0.5347 - val_accuracy: 0.7597\n",
      "Epoch 9/50\n",
      "20/20 [==============================] - 0s 6ms/step - loss: 0.4118 - accuracy: 0.7997 - val_loss: 0.5349 - val_accuracy: 0.7532\n",
      "Epoch 10/50\n",
      "20/20 [==============================] - 0s 5ms/step - loss: 0.4111 - accuracy: 0.8013 - val_loss: 0.5377 - val_accuracy: 0.7468\n",
      "Epoch 11/50\n",
      "20/20 [==============================] - 0s 6ms/step - loss: 0.4106 - accuracy: 0.8029 - val_loss: 0.5365 - val_accuracy: 0.7532\n",
      "Epoch 12/50\n",
      "20/20 [==============================] - 0s 5ms/step - loss: 0.4102 - accuracy: 0.8062 - val_loss: 0.5396 - val_accuracy: 0.7338\n",
      "Epoch 13/50\n",
      "20/20 [==============================] - 0s 5ms/step - loss: 0.4096 - accuracy: 0.7997 - val_loss: 0.5424 - val_accuracy: 0.7403\n",
      "Epoch 14/50\n",
      "20/20 [==============================] - 0s 5ms/step - loss: 0.4087 - accuracy: 0.8013 - val_loss: 0.5422 - val_accuracy: 0.7468\n",
      "Epoch 15/50\n",
      "20/20 [==============================] - 0s 5ms/step - loss: 0.4087 - accuracy: 0.8046 - val_loss: 0.5411 - val_accuracy: 0.7532\n",
      "Epoch 16/50\n",
      "20/20 [==============================] - 0s 6ms/step - loss: 0.4082 - accuracy: 0.8046 - val_loss: 0.5415 - val_accuracy: 0.7597\n",
      "Epoch 17/50\n",
      "20/20 [==============================] - 0s 6ms/step - loss: 0.4075 - accuracy: 0.8062 - val_loss: 0.5429 - val_accuracy: 0.7597\n",
      "Epoch 18/50\n",
      "20/20 [==============================] - 0s 6ms/step - loss: 0.4075 - accuracy: 0.7997 - val_loss: 0.5444 - val_accuracy: 0.7403\n",
      "Epoch 19/50\n",
      "20/20 [==============================] - 0s 7ms/step - loss: 0.4071 - accuracy: 0.8029 - val_loss: 0.5417 - val_accuracy: 0.7532\n",
      "Epoch 20/50\n",
      "20/20 [==============================] - 0s 6ms/step - loss: 0.4075 - accuracy: 0.8046 - val_loss: 0.5417 - val_accuracy: 0.7597\n",
      "Epoch 21/50\n",
      "20/20 [==============================] - 0s 6ms/step - loss: 0.4068 - accuracy: 0.8078 - val_loss: 0.5447 - val_accuracy: 0.7532\n",
      "Epoch 22/50\n",
      "20/20 [==============================] - 0s 6ms/step - loss: 0.4058 - accuracy: 0.8078 - val_loss: 0.5434 - val_accuracy: 0.7532\n",
      "Epoch 23/50\n",
      "20/20 [==============================] - 0s 6ms/step - loss: 0.4057 - accuracy: 0.8013 - val_loss: 0.5441 - val_accuracy: 0.7532\n",
      "Epoch 24/50\n",
      "20/20 [==============================] - 0s 6ms/step - loss: 0.4054 - accuracy: 0.8029 - val_loss: 0.5443 - val_accuracy: 0.7662\n",
      "Epoch 25/50\n",
      "20/20 [==============================] - 0s 6ms/step - loss: 0.4049 - accuracy: 0.8029 - val_loss: 0.5434 - val_accuracy: 0.7597\n",
      "Epoch 26/50\n",
      "20/20 [==============================] - 0s 6ms/step - loss: 0.4046 - accuracy: 0.8046 - val_loss: 0.5449 - val_accuracy: 0.7597\n",
      "Epoch 27/50\n",
      "20/20 [==============================] - 0s 6ms/step - loss: 0.4039 - accuracy: 0.8029 - val_loss: 0.5446 - val_accuracy: 0.7597\n",
      "Epoch 28/50\n",
      "20/20 [==============================] - 0s 7ms/step - loss: 0.4043 - accuracy: 0.8094 - val_loss: 0.5467 - val_accuracy: 0.7597\n",
      "Epoch 29/50\n",
      "20/20 [==============================] - 0s 6ms/step - loss: 0.4046 - accuracy: 0.8078 - val_loss: 0.5450 - val_accuracy: 0.7597\n",
      "Epoch 30/50\n",
      "20/20 [==============================] - 0s 6ms/step - loss: 0.4030 - accuracy: 0.8078 - val_loss: 0.5442 - val_accuracy: 0.7597\n",
      "Epoch 31/50\n",
      "20/20 [==============================] - 0s 6ms/step - loss: 0.4026 - accuracy: 0.8127 - val_loss: 0.5456 - val_accuracy: 0.7597\n",
      "Epoch 32/50\n",
      "20/20 [==============================] - 0s 5ms/step - loss: 0.4026 - accuracy: 0.8062 - val_loss: 0.5465 - val_accuracy: 0.7597\n",
      "Epoch 33/50\n",
      "20/20 [==============================] - 0s 6ms/step - loss: 0.4026 - accuracy: 0.8127 - val_loss: 0.5482 - val_accuracy: 0.7532\n",
      "Epoch 34/50\n",
      "20/20 [==============================] - 0s 6ms/step - loss: 0.4022 - accuracy: 0.8111 - val_loss: 0.5447 - val_accuracy: 0.7597\n",
      "Epoch 35/50\n",
      "20/20 [==============================] - 0s 6ms/step - loss: 0.4015 - accuracy: 0.8094 - val_loss: 0.5443 - val_accuracy: 0.7532\n",
      "Epoch 36/50\n",
      "20/20 [==============================] - 0s 6ms/step - loss: 0.4010 - accuracy: 0.8111 - val_loss: 0.5486 - val_accuracy: 0.7662\n",
      "Epoch 37/50\n",
      "20/20 [==============================] - 0s 6ms/step - loss: 0.4016 - accuracy: 0.8046 - val_loss: 0.5501 - val_accuracy: 0.7532\n",
      "Epoch 38/50\n",
      "20/20 [==============================] - 0s 6ms/step - loss: 0.4001 - accuracy: 0.8062 - val_loss: 0.5493 - val_accuracy: 0.7597\n",
      "Epoch 39/50\n",
      "20/20 [==============================] - 0s 6ms/step - loss: 0.4002 - accuracy: 0.8094 - val_loss: 0.5489 - val_accuracy: 0.7532\n",
      "Epoch 40/50\n",
      "20/20 [==============================] - 0s 6ms/step - loss: 0.3998 - accuracy: 0.8127 - val_loss: 0.5517 - val_accuracy: 0.7597\n",
      "Epoch 41/50\n",
      "20/20 [==============================] - 0s 6ms/step - loss: 0.3997 - accuracy: 0.8160 - val_loss: 0.5549 - val_accuracy: 0.7597\n",
      "Epoch 42/50\n",
      "20/20 [==============================] - 0s 7ms/step - loss: 0.4005 - accuracy: 0.8078 - val_loss: 0.5492 - val_accuracy: 0.7597\n",
      "Epoch 43/50\n",
      "20/20 [==============================] - 0s 6ms/step - loss: 0.3992 - accuracy: 0.8111 - val_loss: 0.5515 - val_accuracy: 0.7597\n",
      "Epoch 44/50\n",
      "20/20 [==============================] - 0s 5ms/step - loss: 0.3986 - accuracy: 0.8094 - val_loss: 0.5521 - val_accuracy: 0.7597\n",
      "Epoch 45/50\n",
      "20/20 [==============================] - 0s 6ms/step - loss: 0.3982 - accuracy: 0.8111 - val_loss: 0.5533 - val_accuracy: 0.7597\n",
      "Epoch 46/50\n",
      "20/20 [==============================] - 0s 6ms/step - loss: 0.3981 - accuracy: 0.8094 - val_loss: 0.5537 - val_accuracy: 0.7597\n",
      "Epoch 47/50\n",
      "20/20 [==============================] - 0s 6ms/step - loss: 0.3976 - accuracy: 0.8111 - val_loss: 0.5548 - val_accuracy: 0.7597\n",
      "Epoch 48/50\n",
      "20/20 [==============================] - 0s 8ms/step - loss: 0.3976 - accuracy: 0.8127 - val_loss: 0.5545 - val_accuracy: 0.7532\n",
      "Epoch 49/50\n",
      "20/20 [==============================] - 0s 6ms/step - loss: 0.3972 - accuracy: 0.8078 - val_loss: 0.5551 - val_accuracy: 0.7532\n",
      "Epoch 50/50\n",
      "20/20 [==============================] - 0s 5ms/step - loss: 0.3971 - accuracy: 0.8143 - val_loss: 0.5589 - val_accuracy: 0.7532\n"
     ]
    }
   ],
   "source": [
    "hist=model.fit(X_train,y_train,validation_data=(X_test,y_test),batch_size=32,epochs=50)"
   ]
  },
  {
   "cell_type": "code",
   "execution_count": 25,
   "id": "76b8d544",
   "metadata": {},
   "outputs": [
    {
     "data": {
      "text/plain": [
       "[<matplotlib.lines.Line2D at 0x14b7bfbee90>]"
      ]
     },
     "execution_count": 25,
     "metadata": {},
     "output_type": "execute_result"
    },
    {
     "data": {
      "image/png": "[encoded data removed]",
      "text/plain": [
       "<Figure size 640x480 with 1 Axes>"
      ]
     },
     "metadata": {},
     "output_type": "display_data"
    }
   ],
   "source": [
    "import matplotlib.pyplot as plt\n",
    "plt.plot(hist.history['loss'])\n",
    "plt.plot(hist.history['val_loss'])"
   ]
  },
  {
   "cell_type": "code",
   "execution_count": 26,
   "id": "eec536e1",
   "metadata": {},
   "outputs": [
    {
     "data": {
      "text/plain": [
       "[<matplotlib.lines.Line2D at 0x14b7d1a2980>]"
      ]
     },
     "execution_count": 26,
     "metadata": {},
     "output_type": "execute_result"
    },
    {
     "data": {
      "image/png": "[encoded data removed]",
      "text/plain": [
       "<Figure size 640x480 with 1 Axes>"
      ]
     },
     "metadata": {},
     "output_type": "display_data"
    }
   ],
   "source": [
    "plt.plot(hist.history['accuracy'])\n",
    "plt.plot(hist.history['val_accuracy'])"
   ]
  },
  {
   "cell_type": "code",
   "execution_count": 29,
   "id": "d9e7a3fa",
   "metadata": {},
   "outputs": [
    {
     "name": "stdout",
     "output_type": "stream",
     "text": [
      "Collecting keras-tuner\n",
      "  Downloading keras_tuner-1.4.7-py3-none-any.whl (129 kB)\n",
      "     -------------------------------------- 129.1/129.1 kB 1.5 MB/s eta 0:00:00\n",
      "Requirement already satisfied: keras in c:\\users\\asus\\appdata\\roaming\\python\\python310\\site-packages (from keras-tuner) (2.15.0)\n",
      "Collecting kt-legacy\n",
      "  Downloading kt_legacy-1.0.5-py3-none-any.whl (9.6 kB)\n",
      "Requirement already satisfied: requests in c:\\users\\asus\\anaconda3\\lib\\site-packages (from keras-tuner) (2.28.1)\n",
      "Requirement already satisfied: packaging in c:\\users\\asus\\anaconda3\\lib\\site-packages (from keras-tuner) (22.0)\n",
      "Requirement already satisfied: urllib3<1.27,>=1.21.1 in c:\\users\\asus\\anaconda3\\lib\\site-packages (from requests->keras-tuner) (1.26.14)\n",
      "Requirement already satisfied: idna<4,>=2.5 in c:\\users\\asus\\anaconda3\\lib\\site-packages (from requests->keras-tuner) (3.4)\n",
      "Requirement already satisfied: charset-normalizer<3,>=2 in c:\\users\\asus\\anaconda3\\lib\\site-packages (from requests->keras-tuner) (2.0.4)\n",
      "Requirement already satisfied: certifi>=2017.4.17 in c:\\users\\asus\\anaconda3\\lib\\site-packages (from requests->keras-tuner) (2022.12.7)\n",
      "Installing collected packages: kt-legacy, keras-tuner\n",
      "Successfully installed keras-tuner-1.4.7 kt-legacy-1.0.5\n"
     ]
    }
   ],
   "source": [
    "!pip install keras-tuner"
   ]
  },
  {
   "cell_type": "code",
   "execution_count": 31,
   "id": "1d196565",
   "metadata": {},
   "outputs": [],
   "source": [
    "import keras_tuner as kt"
   ]
  },
  {
   "cell_type": "code",
   "execution_count": 32,
   "id": "de29ae53",
   "metadata": {},
   "outputs": [],
   "source": [
    "#OPTIMIZER"
   ]
  },
  {
   "cell_type": "code",
   "execution_count": 37,
   "id": "0c7c43a9",
   "metadata": {},
   "outputs": [],
   "source": [
    "def build_model(hp):\n",
    "    model=Sequential()\n",
    "    model.add(Dense(32,activation='relu',input_dim=8))\n",
    "    model.add(Dense(1,activation='sigmoid'))\n",
    "    model.compile(optimizer=hp.Choice('optimizer',values=['adam','sgd','rmsprop','adadelta']),loss='binary_crossentropy',metrics=['accuracy'])\n",
    "    return model"
   ]
  },
  {
   "cell_type": "code",
   "execution_count": 38,
   "id": "7aaf5c8c",
   "metadata": {},
   "outputs": [],
   "source": [
    "tuner=kt.RandomSearch(build_model,max_trials=5,objective='val_accuracy')"
   ]
  },
  {
   "cell_type": "code",
   "execution_count": 40,
   "id": "5b726b4f",
   "metadata": {},
   "outputs": [
    {
     "name": "stdout",
     "output_type": "stream",
     "text": [
      "Trial 4 Complete [00h 00m 03s]\n",
      "val_accuracy: 0.6168830990791321\n",
      "\n",
      "Best val_accuracy So Far: 0.7467532753944397\n",
      "Total elapsed time: 00h 00m 34s\n"
     ]
    }
   ],
   "source": [
    "tuner.search(X_train,y_train,validation_data=(X_test,y_test),epochs=10)"
   ]
  },
  {
   "cell_type": "code",
   "execution_count": 41,
   "id": "69d23d0e",
   "metadata": {},
   "outputs": [
    {
     "data": {
      "text/plain": [
       "{'optimizer': 'sgd'}"
      ]
     },
     "execution_count": 41,
     "metadata": {},
     "output_type": "execute_result"
    }
   ],
   "source": [
    "tuner.get_best_hyperparameters()[0].values"
   ]
  },
  {
   "cell_type": "code",
   "execution_count": 42,
   "id": "f21fbcd5",
   "metadata": {},
   "outputs": [],
   "source": [
    "m=tuner.get_best_models(num_models=1)[0]"
   ]
  },
  {
   "cell_type": "code",
   "execution_count": 43,
   "id": "6d8b13b0",
   "metadata": {},
   "outputs": [
    {
     "name": "stdout",
     "output_type": "stream",
     "text": [
      "Model: \"sequential\"\n",
      "_________________________________________________________________\n",
      " Layer (type)                Output Shape              Param #   \n",
      "=================================================================\n",
      " dense (Dense)               (None, 32)                288       \n",
      "                                                                 \n",
      " dense_1 (Dense)             (None, 1)                 33        \n",
      "                                                                 \n",
      "=================================================================\n",
      "Total params: 321 (1.25 KB)\n",
      "Trainable params: 321 (1.25 KB)\n",
      "Non-trainable params: 0 (0.00 Byte)\n",
      "_________________________________________________________________\n"
     ]
    }
   ],
   "source": [
    "m.summary()"
   ]
  },
  {
   "cell_type": "code",
   "execution_count": 44,
   "id": "340a37d3",
   "metadata": {},
   "outputs": [
    {
     "name": "stdout",
     "output_type": "stream",
     "text": [
      "Epoch 12/100\n",
      "20/20 [==============================] - 0s 12ms/step - loss: 0.3966 - accuracy: 0.8192 - val_loss: 0.5576 - val_accuracy: 0.7532\n",
      "Epoch 13/100\n",
      "20/20 [==============================] - 0s 6ms/step - loss: 0.3963 - accuracy: 0.8111 - val_loss: 0.5599 - val_accuracy: 0.7468\n",
      "Epoch 14/100\n",
      "20/20 [==============================] - 0s 6ms/step - loss: 0.3964 - accuracy: 0.8094 - val_loss: 0.5618 - val_accuracy: 0.7532\n",
      "Epoch 15/100\n",
      "20/20 [==============================] - 0s 6ms/step - loss: 0.3958 - accuracy: 0.8143 - val_loss: 0.5643 - val_accuracy: 0.7468\n",
      "Epoch 16/100\n",
      "20/20 [==============================] - 0s 5ms/step - loss: 0.3955 - accuracy: 0.8160 - val_loss: 0.5637 - val_accuracy: 0.7468\n",
      "Epoch 17/100\n",
      "20/20 [==============================] - 0s 6ms/step - loss: 0.3959 - accuracy: 0.8225 - val_loss: 0.5632 - val_accuracy: 0.7468\n",
      "Epoch 18/100\n",
      "20/20 [==============================] - 0s 5ms/step - loss: 0.3953 - accuracy: 0.8176 - val_loss: 0.5632 - val_accuracy: 0.7532\n",
      "Epoch 19/100\n",
      "20/20 [==============================] - 0s 6ms/step - loss: 0.3954 - accuracy: 0.8160 - val_loss: 0.5634 - val_accuracy: 0.7532\n",
      "Epoch 20/100\n",
      "20/20 [==============================] - 0s 6ms/step - loss: 0.3945 - accuracy: 0.8111 - val_loss: 0.5616 - val_accuracy: 0.7403\n",
      "Epoch 21/100\n",
      "20/20 [==============================] - 0s 7ms/step - loss: 0.3947 - accuracy: 0.8127 - val_loss: 0.5612 - val_accuracy: 0.7403\n",
      "Epoch 22/100\n",
      "20/20 [==============================] - 0s 5ms/step - loss: 0.3950 - accuracy: 0.8160 - val_loss: 0.5585 - val_accuracy: 0.7468\n",
      "Epoch 23/100\n",
      "20/20 [==============================] - 0s 5ms/step - loss: 0.3936 - accuracy: 0.8143 - val_loss: 0.5630 - val_accuracy: 0.7403\n",
      "Epoch 24/100\n",
      "20/20 [==============================] - 0s 6ms/step - loss: 0.3934 - accuracy: 0.8176 - val_loss: 0.5632 - val_accuracy: 0.7468\n",
      "Epoch 25/100\n",
      "20/20 [==============================] - 0s 7ms/step - loss: 0.3931 - accuracy: 0.8160 - val_loss: 0.5633 - val_accuracy: 0.7468\n",
      "Epoch 26/100\n",
      "20/20 [==============================] - 0s 6ms/step - loss: 0.3928 - accuracy: 0.8225 - val_loss: 0.5636 - val_accuracy: 0.7468\n",
      "Epoch 27/100\n",
      "20/20 [==============================] - 0s 6ms/step - loss: 0.3926 - accuracy: 0.8192 - val_loss: 0.5636 - val_accuracy: 0.7403\n",
      "Epoch 28/100\n",
      "20/20 [==============================] - 0s 6ms/step - loss: 0.3923 - accuracy: 0.8225 - val_loss: 0.5635 - val_accuracy: 0.7468\n",
      "Epoch 29/100\n",
      "20/20 [==============================] - 0s 6ms/step - loss: 0.3919 - accuracy: 0.8192 - val_loss: 0.5647 - val_accuracy: 0.7403\n",
      "Epoch 30/100\n",
      "20/20 [==============================] - 0s 6ms/step - loss: 0.3918 - accuracy: 0.8192 - val_loss: 0.5655 - val_accuracy: 0.7468\n",
      "Epoch 31/100\n",
      "20/20 [==============================] - 0s 6ms/step - loss: 0.3914 - accuracy: 0.8225 - val_loss: 0.5648 - val_accuracy: 0.7403\n",
      "Epoch 32/100\n",
      "20/20 [==============================] - 0s 7ms/step - loss: 0.3911 - accuracy: 0.8176 - val_loss: 0.5656 - val_accuracy: 0.7468\n",
      "Epoch 33/100\n",
      "20/20 [==============================] - 0s 7ms/step - loss: 0.3908 - accuracy: 0.8192 - val_loss: 0.5661 - val_accuracy: 0.7403\n",
      "Epoch 34/100\n",
      "20/20 [==============================] - 0s 6ms/step - loss: 0.3904 - accuracy: 0.8225 - val_loss: 0.5660 - val_accuracy: 0.7403\n",
      "Epoch 35/100\n",
      "20/20 [==============================] - 0s 6ms/step - loss: 0.3899 - accuracy: 0.8208 - val_loss: 0.5659 - val_accuracy: 0.7468\n",
      "Epoch 36/100\n",
      "20/20 [==============================] - 0s 6ms/step - loss: 0.3904 - accuracy: 0.8192 - val_loss: 0.5680 - val_accuracy: 0.7403\n",
      "Epoch 37/100\n",
      "20/20 [==============================] - 0s 5ms/step - loss: 0.3891 - accuracy: 0.8225 - val_loss: 0.5665 - val_accuracy: 0.7468\n",
      "Epoch 38/100\n",
      "20/20 [==============================] - 0s 5ms/step - loss: 0.3894 - accuracy: 0.8192 - val_loss: 0.5667 - val_accuracy: 0.7468\n",
      "Epoch 39/100\n",
      "20/20 [==============================] - 0s 7ms/step - loss: 0.3885 - accuracy: 0.8192 - val_loss: 0.5648 - val_accuracy: 0.7532\n",
      "Epoch 40/100\n",
      "20/20 [==============================] - 0s 7ms/step - loss: 0.3882 - accuracy: 0.8192 - val_loss: 0.5632 - val_accuracy: 0.7468\n",
      "Epoch 41/100\n",
      "20/20 [==============================] - 0s 7ms/step - loss: 0.3887 - accuracy: 0.8176 - val_loss: 0.5619 - val_accuracy: 0.7468\n",
      "Epoch 42/100\n",
      "20/20 [==============================] - 0s 5ms/step - loss: 0.3886 - accuracy: 0.8160 - val_loss: 0.5623 - val_accuracy: 0.7468\n",
      "Epoch 43/100\n",
      "20/20 [==============================] - 0s 6ms/step - loss: 0.3884 - accuracy: 0.8192 - val_loss: 0.5632 - val_accuracy: 0.7532\n",
      "Epoch 44/100\n",
      "20/20 [==============================] - 0s 5ms/step - loss: 0.3871 - accuracy: 0.8208 - val_loss: 0.5638 - val_accuracy: 0.7532\n",
      "Epoch 45/100\n",
      "20/20 [==============================] - 0s 5ms/step - loss: 0.3880 - accuracy: 0.8225 - val_loss: 0.5655 - val_accuracy: 0.7468\n",
      "Epoch 46/100\n",
      "20/20 [==============================] - 0s 6ms/step - loss: 0.3867 - accuracy: 0.8192 - val_loss: 0.5647 - val_accuracy: 0.7468\n",
      "Epoch 47/100\n",
      "20/20 [==============================] - 0s 5ms/step - loss: 0.3871 - accuracy: 0.8176 - val_loss: 0.5644 - val_accuracy: 0.7468\n",
      "Epoch 48/100\n",
      "20/20 [==============================] - 0s 6ms/step - loss: 0.3861 - accuracy: 0.8225 - val_loss: 0.5638 - val_accuracy: 0.7468\n",
      "Epoch 49/100\n",
      "20/20 [==============================] - 0s 7ms/step - loss: 0.3862 - accuracy: 0.8208 - val_loss: 0.5632 - val_accuracy: 0.7468\n",
      "Epoch 50/100\n",
      "20/20 [==============================] - 0s 6ms/step - loss: 0.3861 - accuracy: 0.8225 - val_loss: 0.5632 - val_accuracy: 0.7532\n",
      "Epoch 51/100\n",
      "20/20 [==============================] - 0s 6ms/step - loss: 0.3858 - accuracy: 0.8225 - val_loss: 0.5646 - val_accuracy: 0.7468\n",
      "Epoch 52/100\n",
      "20/20 [==============================] - 0s 5ms/step - loss: 0.3852 - accuracy: 0.8241 - val_loss: 0.5653 - val_accuracy: 0.7468\n",
      "Epoch 53/100\n",
      "20/20 [==============================] - 0s 5ms/step - loss: 0.3850 - accuracy: 0.8225 - val_loss: 0.5627 - val_accuracy: 0.7468\n",
      "Epoch 54/100\n",
      "20/20 [==============================] - 0s 6ms/step - loss: 0.3852 - accuracy: 0.8257 - val_loss: 0.5634 - val_accuracy: 0.7403\n",
      "Epoch 55/100\n",
      "20/20 [==============================] - 0s 5ms/step - loss: 0.3845 - accuracy: 0.8241 - val_loss: 0.5639 - val_accuracy: 0.7468\n",
      "Epoch 56/100\n",
      "20/20 [==============================] - 0s 6ms/step - loss: 0.3843 - accuracy: 0.8241 - val_loss: 0.5635 - val_accuracy: 0.7468\n",
      "Epoch 57/100\n",
      "20/20 [==============================] - 0s 6ms/step - loss: 0.3841 - accuracy: 0.8257 - val_loss: 0.5637 - val_accuracy: 0.7468\n",
      "Epoch 58/100\n",
      "20/20 [==============================] - 0s 5ms/step - loss: 0.3834 - accuracy: 0.8225 - val_loss: 0.5644 - val_accuracy: 0.7468\n",
      "Epoch 59/100\n",
      "20/20 [==============================] - 0s 6ms/step - loss: 0.3839 - accuracy: 0.8225 - val_loss: 0.5660 - val_accuracy: 0.7468\n",
      "Epoch 60/100\n",
      "20/20 [==============================] - 0s 5ms/step - loss: 0.3832 - accuracy: 0.8257 - val_loss: 0.5672 - val_accuracy: 0.7468\n",
      "Epoch 61/100\n",
      "20/20 [==============================] - 0s 7ms/step - loss: 0.3827 - accuracy: 0.8241 - val_loss: 0.5660 - val_accuracy: 0.7403\n",
      "Epoch 62/100\n",
      "20/20 [==============================] - 0s 6ms/step - loss: 0.3823 - accuracy: 0.8241 - val_loss: 0.5660 - val_accuracy: 0.7532\n",
      "Epoch 63/100\n",
      "20/20 [==============================] - 0s 5ms/step - loss: 0.3829 - accuracy: 0.8274 - val_loss: 0.5678 - val_accuracy: 0.7468\n",
      "Epoch 64/100\n",
      "20/20 [==============================] - 0s 6ms/step - loss: 0.3826 - accuracy: 0.8257 - val_loss: 0.5633 - val_accuracy: 0.7532\n",
      "Epoch 65/100\n",
      "20/20 [==============================] - 0s 6ms/step - loss: 0.3816 - accuracy: 0.8274 - val_loss: 0.5697 - val_accuracy: 0.7468\n",
      "Epoch 66/100\n",
      "20/20 [==============================] - 0s 6ms/step - loss: 0.3818 - accuracy: 0.8257 - val_loss: 0.5715 - val_accuracy: 0.7403\n",
      "Epoch 67/100\n",
      "20/20 [==============================] - 0s 5ms/step - loss: 0.3809 - accuracy: 0.8290 - val_loss: 0.5697 - val_accuracy: 0.7403\n",
      "Epoch 68/100\n",
      "20/20 [==============================] - 0s 5ms/step - loss: 0.3813 - accuracy: 0.8257 - val_loss: 0.5677 - val_accuracy: 0.7532\n",
      "Epoch 69/100\n",
      "20/20 [==============================] - 0s 5ms/step - loss: 0.3806 - accuracy: 0.8290 - val_loss: 0.5707 - val_accuracy: 0.7468\n",
      "Epoch 70/100\n",
      "20/20 [==============================] - 0s 5ms/step - loss: 0.3803 - accuracy: 0.8274 - val_loss: 0.5731 - val_accuracy: 0.7468\n",
      "Epoch 71/100\n",
      "20/20 [==============================] - 0s 5ms/step - loss: 0.3808 - accuracy: 0.8225 - val_loss: 0.5710 - val_accuracy: 0.7468\n",
      "Epoch 72/100\n",
      "20/20 [==============================] - 0s 5ms/step - loss: 0.3809 - accuracy: 0.8257 - val_loss: 0.5732 - val_accuracy: 0.7403\n",
      "Epoch 73/100\n",
      "20/20 [==============================] - 0s 5ms/step - loss: 0.3799 - accuracy: 0.8290 - val_loss: 0.5686 - val_accuracy: 0.7468\n",
      "Epoch 74/100\n",
      "20/20 [==============================] - 0s 5ms/step - loss: 0.3802 - accuracy: 0.8290 - val_loss: 0.5667 - val_accuracy: 0.7532\n",
      "Epoch 75/100\n",
      "20/20 [==============================] - 0s 6ms/step - loss: 0.3792 - accuracy: 0.8257 - val_loss: 0.5661 - val_accuracy: 0.7532\n",
      "Epoch 76/100\n",
      "20/20 [==============================] - 0s 7ms/step - loss: 0.3789 - accuracy: 0.8257 - val_loss: 0.5669 - val_accuracy: 0.7532\n",
      "Epoch 77/100\n",
      "20/20 [==============================] - 0s 8ms/step - loss: 0.3783 - accuracy: 0.8257 - val_loss: 0.5647 - val_accuracy: 0.7468\n",
      "Epoch 78/100\n",
      "20/20 [==============================] - 0s 8ms/step - loss: 0.3787 - accuracy: 0.8290 - val_loss: 0.5678 - val_accuracy: 0.7468\n",
      "Epoch 79/100\n",
      "20/20 [==============================] - 0s 7ms/step - loss: 0.3786 - accuracy: 0.8306 - val_loss: 0.5651 - val_accuracy: 0.7468\n",
      "Epoch 80/100\n",
      "20/20 [==============================] - 0s 8ms/step - loss: 0.3782 - accuracy: 0.8257 - val_loss: 0.5643 - val_accuracy: 0.7468\n",
      "Epoch 81/100\n",
      "20/20 [==============================] - 0s 8ms/step - loss: 0.3783 - accuracy: 0.8322 - val_loss: 0.5626 - val_accuracy: 0.7532\n",
      "Epoch 82/100\n",
      "20/20 [==============================] - 0s 6ms/step - loss: 0.3775 - accuracy: 0.8225 - val_loss: 0.5657 - val_accuracy: 0.7532\n",
      "Epoch 83/100\n",
      "20/20 [==============================] - 0s 7ms/step - loss: 0.3770 - accuracy: 0.8290 - val_loss: 0.5671 - val_accuracy: 0.7468\n",
      "Epoch 84/100\n",
      "20/20 [==============================] - 0s 5ms/step - loss: 0.3773 - accuracy: 0.8290 - val_loss: 0.5664 - val_accuracy: 0.7468\n",
      "Epoch 85/100\n",
      "20/20 [==============================] - 0s 4ms/step - loss: 0.3768 - accuracy: 0.8306 - val_loss: 0.5666 - val_accuracy: 0.7532\n",
      "Epoch 86/100\n",
      "20/20 [==============================] - 0s 4ms/step - loss: 0.3757 - accuracy: 0.8339 - val_loss: 0.5669 - val_accuracy: 0.7468\n",
      "Epoch 87/100\n",
      "20/20 [==============================] - 0s 5ms/step - loss: 0.3760 - accuracy: 0.8290 - val_loss: 0.5674 - val_accuracy: 0.7468\n",
      "Epoch 88/100\n",
      "20/20 [==============================] - 0s 5ms/step - loss: 0.3755 - accuracy: 0.8290 - val_loss: 0.5665 - val_accuracy: 0.7468\n",
      "Epoch 89/100\n",
      "20/20 [==============================] - 0s 7ms/step - loss: 0.3763 - accuracy: 0.8290 - val_loss: 0.5677 - val_accuracy: 0.7468\n",
      "Epoch 90/100\n",
      "20/20 [==============================] - 0s 7ms/step - loss: 0.3757 - accuracy: 0.8306 - val_loss: 0.5674 - val_accuracy: 0.7403\n",
      "Epoch 91/100\n",
      "20/20 [==============================] - 0s 6ms/step - loss: 0.3747 - accuracy: 0.8322 - val_loss: 0.5660 - val_accuracy: 0.7468\n",
      "Epoch 92/100\n",
      "20/20 [==============================] - 0s 5ms/step - loss: 0.3752 - accuracy: 0.8355 - val_loss: 0.5658 - val_accuracy: 0.7532\n",
      "Epoch 93/100\n",
      "20/20 [==============================] - 0s 5ms/step - loss: 0.3746 - accuracy: 0.8355 - val_loss: 0.5682 - val_accuracy: 0.7468\n",
      "Epoch 94/100\n",
      "20/20 [==============================] - 0s 5ms/step - loss: 0.3740 - accuracy: 0.8322 - val_loss: 0.5707 - val_accuracy: 0.7468\n",
      "Epoch 95/100\n",
      "20/20 [==============================] - 0s 4ms/step - loss: 0.3742 - accuracy: 0.8274 - val_loss: 0.5712 - val_accuracy: 0.7468\n",
      "Epoch 96/100\n",
      "20/20 [==============================] - 0s 5ms/step - loss: 0.3742 - accuracy: 0.8274 - val_loss: 0.5700 - val_accuracy: 0.7468\n",
      "Epoch 97/100\n",
      "20/20 [==============================] - 0s 5ms/step - loss: 0.3744 - accuracy: 0.8306 - val_loss: 0.5712 - val_accuracy: 0.7273\n",
      "Epoch 98/100\n",
      "20/20 [==============================] - 0s 7ms/step - loss: 0.3740 - accuracy: 0.8306 - val_loss: 0.5681 - val_accuracy: 0.7532\n",
      "Epoch 99/100\n",
      "20/20 [==============================] - 0s 7ms/step - loss: 0.3735 - accuracy: 0.8241 - val_loss: 0.5699 - val_accuracy: 0.7403\n",
      "Epoch 100/100\n",
      "20/20 [==============================] - 0s 5ms/step - loss: 0.3730 - accuracy: 0.8290 - val_loss: 0.5687 - val_accuracy: 0.7468\n"
     ]
    },
    {
     "data": {
      "text/plain": [
       "<keras.src.callbacks.History at 0x14b7f3c9450>"
      ]
     },
     "execution_count": 44,
     "metadata": {},
     "output_type": "execute_result"
    }
   ],
   "source": [
    "model.fit(X_train,y_train,batch_size=32,epochs=100,validation_data=(X_test,y_test),initial_epoch=11)"
   ]
  },
  {
   "cell_type": "code",
   "execution_count": 45,
   "id": "c077b05d",
   "metadata": {},
   "outputs": [],
   "source": [
    "#No of Neurons"
   ]
  },
  {
   "cell_type": "code",
   "execution_count": 47,
   "id": "1b028d37",
   "metadata": {},
   "outputs": [],
   "source": [
    "def build_model_2(hp):\n",
    "    model=Sequential()\n",
    "    units=hp.Int('u',8,128,step=8)\n",
    "    model.add(Dense(units=units,activation='relu',input_dim=8))\n",
    "    model.add(Dense(1,activation='sigmoid'))\n",
    "    model.compile(optimizer='SGD',loss='binary_crossentropy',metrics=['accuracy'])\n",
    "    return model"
   ]
  },
  {
   "cell_type": "code",
   "execution_count": 53,
   "id": "ce99f6a4",
   "metadata": {},
   "outputs": [],
   "source": [
    "t=kt.RandomSearch(build_model_2,objective='val_accuracy',max_trials=5,directory='my_dir')"
   ]
  },
  {
   "cell_type": "code",
   "execution_count": 54,
   "id": "a70213ae",
   "metadata": {},
   "outputs": [
    {
     "name": "stdout",
     "output_type": "stream",
     "text": [
      "Trial 5 Complete [00h 00m 03s]\n",
      "val_accuracy: 0.6818181872367859\n",
      "\n",
      "Best val_accuracy So Far: 0.7597402334213257\n",
      "Total elapsed time: 00h 00m 14s\n"
     ]
    }
   ],
   "source": [
    "t.search(X_train,y_train,epochs=10,validation_data=(X_test,y_test))"
   ]
  },
  {
   "cell_type": "code",
   "execution_count": 55,
   "id": "202704d0",
   "metadata": {},
   "outputs": [
    {
     "data": {
      "text/plain": [
       "{'u': 104}"
      ]
     },
     "execution_count": 55,
     "metadata": {},
     "output_type": "execute_result"
    }
   ],
   "source": [
    "t.get_best_hyperparameters()[0].values"
   ]
  },
  {
   "cell_type": "code",
   "execution_count": 56,
   "id": "a779a252",
   "metadata": {},
   "outputs": [],
   "source": [
    "m2=t.get_best_models(num_models=1)[0]"
   ]
  },
  {
   "cell_type": "code",
   "execution_count": 58,
   "id": "a5313826",
   "metadata": {},
   "outputs": [
    {
     "name": "stdout",
     "output_type": "stream",
     "text": [
      "Epoch 12/100\n",
      "20/20 [==============================] - 1s 17ms/step - loss: 0.5387 - accuracy: 0.7655 - val_loss: 0.5544 - val_accuracy: 0.7532\n",
      "Epoch 13/100\n",
      "20/20 [==============================] - 0s 6ms/step - loss: 0.5319 - accuracy: 0.7622 - val_loss: 0.5496 - val_accuracy: 0.7597\n",
      "Epoch 14/100\n",
      "20/20 [==============================] - 0s 7ms/step - loss: 0.5256 - accuracy: 0.7638 - val_loss: 0.5447 - val_accuracy: 0.7727\n",
      "Epoch 15/100\n",
      "20/20 [==============================] - 0s 6ms/step - loss: 0.5200 - accuracy: 0.7655 - val_loss: 0.5403 - val_accuracy: 0.7727\n",
      "Epoch 16/100\n",
      "20/20 [==============================] - 0s 7ms/step - loss: 0.5147 - accuracy: 0.7687 - val_loss: 0.5363 - val_accuracy: 0.7662\n",
      "Epoch 17/100\n",
      "20/20 [==============================] - 0s 5ms/step - loss: 0.5099 - accuracy: 0.7622 - val_loss: 0.5329 - val_accuracy: 0.7597\n",
      "Epoch 18/100\n",
      "20/20 [==============================] - 0s 6ms/step - loss: 0.5056 - accuracy: 0.7638 - val_loss: 0.5303 - val_accuracy: 0.7597\n",
      "Epoch 19/100\n",
      "20/20 [==============================] - 0s 6ms/step - loss: 0.5019 - accuracy: 0.7655 - val_loss: 0.5277 - val_accuracy: 0.7597\n",
      "Epoch 20/100\n",
      "20/20 [==============================] - 0s 6ms/step - loss: 0.4983 - accuracy: 0.7671 - val_loss: 0.5256 - val_accuracy: 0.7532\n",
      "Epoch 21/100\n",
      "20/20 [==============================] - 0s 6ms/step - loss: 0.4949 - accuracy: 0.7687 - val_loss: 0.5231 - val_accuracy: 0.7597\n",
      "Epoch 22/100\n",
      "20/20 [==============================] - 0s 6ms/step - loss: 0.4917 - accuracy: 0.7704 - val_loss: 0.5212 - val_accuracy: 0.7597\n",
      "Epoch 23/100\n",
      "20/20 [==============================] - 0s 6ms/step - loss: 0.4890 - accuracy: 0.7671 - val_loss: 0.5193 - val_accuracy: 0.7597\n",
      "Epoch 24/100\n",
      "20/20 [==============================] - 0s 5ms/step - loss: 0.4864 - accuracy: 0.7704 - val_loss: 0.5176 - val_accuracy: 0.7662\n",
      "Epoch 25/100\n",
      "20/20 [==============================] - 0s 6ms/step - loss: 0.4837 - accuracy: 0.7736 - val_loss: 0.5160 - val_accuracy: 0.7662\n",
      "Epoch 26/100\n",
      "20/20 [==============================] - 0s 6ms/step - loss: 0.4814 - accuracy: 0.7736 - val_loss: 0.5152 - val_accuracy: 0.7662\n",
      "Epoch 27/100\n",
      "20/20 [==============================] - 0s 6ms/step - loss: 0.4795 - accuracy: 0.7752 - val_loss: 0.5156 - val_accuracy: 0.7662\n",
      "Epoch 28/100\n",
      "20/20 [==============================] - 0s 6ms/step - loss: 0.4777 - accuracy: 0.7752 - val_loss: 0.5147 - val_accuracy: 0.7662\n",
      "Epoch 29/100\n",
      "20/20 [==============================] - 0s 6ms/step - loss: 0.4759 - accuracy: 0.7785 - val_loss: 0.5131 - val_accuracy: 0.7662\n",
      "Epoch 30/100\n",
      "20/20 [==============================] - 0s 6ms/step - loss: 0.4740 - accuracy: 0.7785 - val_loss: 0.5116 - val_accuracy: 0.7662\n",
      "Epoch 31/100\n",
      "20/20 [==============================] - 0s 5ms/step - loss: 0.4724 - accuracy: 0.7720 - val_loss: 0.5109 - val_accuracy: 0.7662\n",
      "Epoch 32/100\n",
      "20/20 [==============================] - 0s 6ms/step - loss: 0.4709 - accuracy: 0.7769 - val_loss: 0.5101 - val_accuracy: 0.7597\n",
      "Epoch 33/100\n",
      "20/20 [==============================] - 0s 6ms/step - loss: 0.4694 - accuracy: 0.7752 - val_loss: 0.5094 - val_accuracy: 0.7597\n",
      "Epoch 34/100\n",
      "20/20 [==============================] - 0s 6ms/step - loss: 0.4680 - accuracy: 0.7769 - val_loss: 0.5086 - val_accuracy: 0.7597\n",
      "Epoch 35/100\n",
      "20/20 [==============================] - 0s 6ms/step - loss: 0.4666 - accuracy: 0.7785 - val_loss: 0.5083 - val_accuracy: 0.7597\n",
      "Epoch 36/100\n",
      "20/20 [==============================] - 0s 5ms/step - loss: 0.4655 - accuracy: 0.7785 - val_loss: 0.5076 - val_accuracy: 0.7532\n",
      "Epoch 37/100\n",
      "20/20 [==============================] - 0s 6ms/step - loss: 0.4643 - accuracy: 0.7785 - val_loss: 0.5068 - val_accuracy: 0.7532\n",
      "Epoch 38/100\n",
      "20/20 [==============================] - 0s 6ms/step - loss: 0.4632 - accuracy: 0.7785 - val_loss: 0.5060 - val_accuracy: 0.7532\n",
      "Epoch 39/100\n",
      "20/20 [==============================] - 0s 6ms/step - loss: 0.4622 - accuracy: 0.7785 - val_loss: 0.5054 - val_accuracy: 0.7532\n",
      "Epoch 40/100\n",
      "20/20 [==============================] - 0s 7ms/step - loss: 0.4612 - accuracy: 0.7785 - val_loss: 0.5056 - val_accuracy: 0.7532\n",
      "Epoch 41/100\n",
      "20/20 [==============================] - 0s 6ms/step - loss: 0.4603 - accuracy: 0.7785 - val_loss: 0.5056 - val_accuracy: 0.7597\n",
      "Epoch 42/100\n",
      "20/20 [==============================] - 0s 6ms/step - loss: 0.4592 - accuracy: 0.7785 - val_loss: 0.5069 - val_accuracy: 0.7597\n",
      "Epoch 43/100\n",
      "20/20 [==============================] - 0s 6ms/step - loss: 0.4585 - accuracy: 0.7785 - val_loss: 0.5067 - val_accuracy: 0.7597\n",
      "Epoch 44/100\n",
      "20/20 [==============================] - 0s 6ms/step - loss: 0.4576 - accuracy: 0.7801 - val_loss: 0.5068 - val_accuracy: 0.7597\n",
      "Epoch 45/100\n",
      "20/20 [==============================] - 0s 6ms/step - loss: 0.4568 - accuracy: 0.7801 - val_loss: 0.5068 - val_accuracy: 0.7597\n",
      "Epoch 46/100\n",
      "20/20 [==============================] - 0s 6ms/step - loss: 0.4560 - accuracy: 0.7801 - val_loss: 0.5067 - val_accuracy: 0.7597\n",
      "Epoch 47/100\n",
      "20/20 [==============================] - 0s 6ms/step - loss: 0.4553 - accuracy: 0.7785 - val_loss: 0.5065 - val_accuracy: 0.7597\n",
      "Epoch 48/100\n",
      "20/20 [==============================] - 0s 6ms/step - loss: 0.4545 - accuracy: 0.7818 - val_loss: 0.5062 - val_accuracy: 0.7597\n",
      "Epoch 49/100\n",
      "20/20 [==============================] - 0s 6ms/step - loss: 0.4539 - accuracy: 0.7834 - val_loss: 0.5063 - val_accuracy: 0.7597\n",
      "Epoch 50/100\n",
      "20/20 [==============================] - 0s 6ms/step - loss: 0.4532 - accuracy: 0.7801 - val_loss: 0.5061 - val_accuracy: 0.7597\n",
      "Epoch 51/100\n",
      "20/20 [==============================] - 0s 6ms/step - loss: 0.4525 - accuracy: 0.7818 - val_loss: 0.5055 - val_accuracy: 0.7532\n",
      "Epoch 52/100\n",
      "20/20 [==============================] - 0s 6ms/step - loss: 0.4520 - accuracy: 0.7834 - val_loss: 0.5057 - val_accuracy: 0.7532\n",
      "Epoch 53/100\n",
      "20/20 [==============================] - 0s 5ms/step - loss: 0.4515 - accuracy: 0.7834 - val_loss: 0.5058 - val_accuracy: 0.7532\n",
      "Epoch 54/100\n",
      "20/20 [==============================] - 0s 5ms/step - loss: 0.4508 - accuracy: 0.7834 - val_loss: 0.5060 - val_accuracy: 0.7532\n",
      "Epoch 55/100\n",
      "20/20 [==============================] - 0s 6ms/step - loss: 0.4504 - accuracy: 0.7818 - val_loss: 0.5061 - val_accuracy: 0.7532\n",
      "Epoch 56/100\n",
      "20/20 [==============================] - 0s 5ms/step - loss: 0.4498 - accuracy: 0.7834 - val_loss: 0.5061 - val_accuracy: 0.7532\n",
      "Epoch 57/100\n",
      "20/20 [==============================] - 0s 5ms/step - loss: 0.4493 - accuracy: 0.7834 - val_loss: 0.5064 - val_accuracy: 0.7532\n",
      "Epoch 58/100\n",
      "20/20 [==============================] - 0s 5ms/step - loss: 0.4488 - accuracy: 0.7850 - val_loss: 0.5068 - val_accuracy: 0.7532\n",
      "Epoch 59/100\n",
      "20/20 [==============================] - 0s 4ms/step - loss: 0.4483 - accuracy: 0.7834 - val_loss: 0.5069 - val_accuracy: 0.7532\n",
      "Epoch 60/100\n",
      "20/20 [==============================] - 0s 5ms/step - loss: 0.4480 - accuracy: 0.7850 - val_loss: 0.5065 - val_accuracy: 0.7532\n",
      "Epoch 61/100\n",
      "20/20 [==============================] - 0s 5ms/step - loss: 0.4476 - accuracy: 0.7850 - val_loss: 0.5067 - val_accuracy: 0.7532\n",
      "Epoch 62/100\n",
      "20/20 [==============================] - 0s 5ms/step - loss: 0.4470 - accuracy: 0.7834 - val_loss: 0.5068 - val_accuracy: 0.7532\n",
      "Epoch 63/100\n",
      "20/20 [==============================] - 0s 4ms/step - loss: 0.4466 - accuracy: 0.7818 - val_loss: 0.5072 - val_accuracy: 0.7532\n",
      "Epoch 64/100\n",
      "20/20 [==============================] - 0s 5ms/step - loss: 0.4463 - accuracy: 0.7818 - val_loss: 0.5074 - val_accuracy: 0.7532\n",
      "Epoch 65/100\n",
      "20/20 [==============================] - 0s 4ms/step - loss: 0.4459 - accuracy: 0.7834 - val_loss: 0.5075 - val_accuracy: 0.7532\n",
      "Epoch 66/100\n",
      "20/20 [==============================] - 0s 5ms/step - loss: 0.4454 - accuracy: 0.7818 - val_loss: 0.5079 - val_accuracy: 0.7532\n",
      "Epoch 67/100\n",
      "20/20 [==============================] - 0s 4ms/step - loss: 0.4449 - accuracy: 0.7834 - val_loss: 0.5081 - val_accuracy: 0.7532\n",
      "Epoch 68/100\n",
      "20/20 [==============================] - 0s 5ms/step - loss: 0.4446 - accuracy: 0.7818 - val_loss: 0.5082 - val_accuracy: 0.7532\n",
      "Epoch 69/100\n",
      "20/20 [==============================] - 0s 4ms/step - loss: 0.4442 - accuracy: 0.7866 - val_loss: 0.5088 - val_accuracy: 0.7532\n",
      "Epoch 70/100\n",
      "20/20 [==============================] - 0s 5ms/step - loss: 0.4438 - accuracy: 0.7834 - val_loss: 0.5091 - val_accuracy: 0.7532\n",
      "Epoch 71/100\n",
      "20/20 [==============================] - 0s 5ms/step - loss: 0.4436 - accuracy: 0.7850 - val_loss: 0.5092 - val_accuracy: 0.7403\n",
      "Epoch 72/100\n",
      "20/20 [==============================] - 0s 4ms/step - loss: 0.4432 - accuracy: 0.7850 - val_loss: 0.5097 - val_accuracy: 0.7403\n",
      "Epoch 73/100\n",
      "20/20 [==============================] - 0s 5ms/step - loss: 0.4431 - accuracy: 0.7866 - val_loss: 0.5105 - val_accuracy: 0.7468\n",
      "Epoch 74/100\n",
      "20/20 [==============================] - 0s 5ms/step - loss: 0.4426 - accuracy: 0.7866 - val_loss: 0.5105 - val_accuracy: 0.7468\n",
      "Epoch 75/100\n",
      "20/20 [==============================] - 0s 5ms/step - loss: 0.4424 - accuracy: 0.7866 - val_loss: 0.5101 - val_accuracy: 0.7403\n",
      "Epoch 76/100\n",
      "20/20 [==============================] - 0s 5ms/step - loss: 0.4420 - accuracy: 0.7866 - val_loss: 0.5104 - val_accuracy: 0.7403\n",
      "Epoch 77/100\n",
      "20/20 [==============================] - 0s 5ms/step - loss: 0.4418 - accuracy: 0.7883 - val_loss: 0.5100 - val_accuracy: 0.7403\n",
      "Epoch 78/100\n",
      "20/20 [==============================] - 0s 5ms/step - loss: 0.4415 - accuracy: 0.7866 - val_loss: 0.5099 - val_accuracy: 0.7403\n",
      "Epoch 79/100\n",
      "20/20 [==============================] - 0s 5ms/step - loss: 0.4411 - accuracy: 0.7850 - val_loss: 0.5097 - val_accuracy: 0.7403\n",
      "Epoch 80/100\n",
      "20/20 [==============================] - 0s 5ms/step - loss: 0.4408 - accuracy: 0.7883 - val_loss: 0.5101 - val_accuracy: 0.7403\n",
      "Epoch 81/100\n",
      "20/20 [==============================] - 0s 5ms/step - loss: 0.4404 - accuracy: 0.7883 - val_loss: 0.5102 - val_accuracy: 0.7468\n",
      "Epoch 82/100\n",
      "20/20 [==============================] - 0s 4ms/step - loss: 0.4402 - accuracy: 0.7883 - val_loss: 0.5103 - val_accuracy: 0.7532\n",
      "Epoch 83/100\n",
      "20/20 [==============================] - 0s 5ms/step - loss: 0.4398 - accuracy: 0.7850 - val_loss: 0.5101 - val_accuracy: 0.7468\n",
      "Epoch 84/100\n",
      "20/20 [==============================] - 0s 5ms/step - loss: 0.4395 - accuracy: 0.7834 - val_loss: 0.5104 - val_accuracy: 0.7468\n",
      "Epoch 85/100\n",
      "20/20 [==============================] - 0s 4ms/step - loss: 0.4393 - accuracy: 0.7834 - val_loss: 0.5099 - val_accuracy: 0.7468\n",
      "Epoch 86/100\n",
      "20/20 [==============================] - 0s 4ms/step - loss: 0.4390 - accuracy: 0.7850 - val_loss: 0.5097 - val_accuracy: 0.7468\n",
      "Epoch 87/100\n",
      "20/20 [==============================] - 0s 5ms/step - loss: 0.4386 - accuracy: 0.7834 - val_loss: 0.5102 - val_accuracy: 0.7468\n",
      "Epoch 88/100\n",
      "20/20 [==============================] - 0s 5ms/step - loss: 0.4384 - accuracy: 0.7818 - val_loss: 0.5108 - val_accuracy: 0.7468\n",
      "Epoch 89/100\n",
      "20/20 [==============================] - 0s 5ms/step - loss: 0.4383 - accuracy: 0.7801 - val_loss: 0.5111 - val_accuracy: 0.7403\n",
      "Epoch 90/100\n",
      "20/20 [==============================] - 0s 5ms/step - loss: 0.4379 - accuracy: 0.7818 - val_loss: 0.5114 - val_accuracy: 0.7403\n",
      "Epoch 91/100\n",
      "20/20 [==============================] - 0s 4ms/step - loss: 0.4376 - accuracy: 0.7801 - val_loss: 0.5112 - val_accuracy: 0.7403\n",
      "Epoch 92/100\n",
      "20/20 [==============================] - 0s 5ms/step - loss: 0.4374 - accuracy: 0.7866 - val_loss: 0.5113 - val_accuracy: 0.7403\n",
      "Epoch 93/100\n",
      "20/20 [==============================] - 0s 4ms/step - loss: 0.4371 - accuracy: 0.7834 - val_loss: 0.5118 - val_accuracy: 0.7403\n",
      "Epoch 94/100\n",
      "20/20 [==============================] - 0s 5ms/step - loss: 0.4367 - accuracy: 0.7818 - val_loss: 0.5121 - val_accuracy: 0.7403\n",
      "Epoch 95/100\n",
      "20/20 [==============================] - 0s 4ms/step - loss: 0.4366 - accuracy: 0.7818 - val_loss: 0.5119 - val_accuracy: 0.7403\n",
      "Epoch 96/100\n",
      "20/20 [==============================] - 0s 4ms/step - loss: 0.4365 - accuracy: 0.7834 - val_loss: 0.5123 - val_accuracy: 0.7403\n",
      "Epoch 97/100\n",
      "20/20 [==============================] - 0s 4ms/step - loss: 0.4362 - accuracy: 0.7834 - val_loss: 0.5126 - val_accuracy: 0.7403\n",
      "Epoch 98/100\n",
      "20/20 [==============================] - 0s 4ms/step - loss: 0.4360 - accuracy: 0.7834 - val_loss: 0.5129 - val_accuracy: 0.7403\n",
      "Epoch 99/100\n",
      "20/20 [==============================] - 0s 4ms/step - loss: 0.4357 - accuracy: 0.7834 - val_loss: 0.5129 - val_accuracy: 0.7403\n",
      "Epoch 100/100\n",
      "20/20 [==============================] - 0s 4ms/step - loss: 0.4355 - accuracy: 0.7834 - val_loss: 0.5127 - val_accuracy: 0.7403\n"
     ]
    },
    {
     "data": {
      "text/plain": [
       "<keras.src.callbacks.History at 0x14b7f2d5d20>"
      ]
     },
     "execution_count": 58,
     "metadata": {},
     "output_type": "execute_result"
    }
   ],
   "source": [
    "m2.fit(X_train,y_train,batch_size=32,epochs=100,initial_epoch=11,validation_data=(X_test,y_test))"
   ]
  },
  {
   "cell_type": "code",
   "execution_count": 59,
   "id": "9048502d",
   "metadata": {},
   "outputs": [],
   "source": [
    "#Number of Layers"
   ]
  },
  {
   "cell_type": "code",
   "execution_count": 84,
   "id": "30f40e15",
   "metadata": {},
   "outputs": [],
   "source": [
    "def build_model_3(hp):\n",
    "    model=Sequential()\n",
    "    model.add(Dense(72,activation='relu',input_dim=8))\n",
    "    for i in range(hp.Int('Layers',min_value=2,max_value=20)):\n",
    "        model.add(Dense(72,activation='relu'))\n",
    "    model.add(Dense(1,activation='sigmoid'))\n",
    "    model.compile(optimizer='Adam',loss='binary_crossentropy',metrics=['accuracy'])\n",
    "    return model"
   ]
  },
  {
   "cell_type": "code",
   "execution_count": 88,
   "id": "e452ffad",
   "metadata": {},
   "outputs": [
    {
     "name": "stdout",
     "output_type": "stream",
     "text": [
      "Trial 5 Complete [00h 00m 02s]\n",
      "val_accuracy: 0.7792207598686218\n",
      "\n",
      "Best val_accuracy So Far: 0.7792207598686218\n",
      "Total elapsed time: 00h 00m 17s\n"
     ]
    }
   ],
   "source": [
    "t2=kt.RandomSearch(build_model_3,objective='val_accuracy',max_trials=5,directory='my_dir_2')\n",
    "t2.search(X_train,y_train,validation_data=(X_test,y_test),epochs=5)"
   ]
  },
  {
   "cell_type": "code",
   "execution_count": 89,
   "id": "7e6374e4",
   "metadata": {},
   "outputs": [
    {
     "data": {
      "text/plain": [
       "{'Layers': 11}"
      ]
     },
     "execution_count": 89,
     "metadata": {},
     "output_type": "execute_result"
    }
   ],
   "source": [
    "t2.get_best_hyperparameters()[0].values"
   ]
  },
  {
   "cell_type": "code",
   "execution_count": 90,
   "id": "c1d90389",
   "metadata": {},
   "outputs": [],
   "source": [
    "m3=t2.get_best_models(num_models=1)[0]"
   ]
  },
  {
   "cell_type": "code",
   "execution_count": 91,
   "id": "1fbd3748",
   "metadata": {},
   "outputs": [
    {
     "name": "stdout",
     "output_type": "stream",
     "text": [
      "Epoch 12/100\n",
      "20/20 [==============================] - 4s 24ms/step - loss: 0.4838 - accuracy: 0.7720 - val_loss: 0.4464 - val_accuracy: 0.7883\n",
      "Epoch 13/100\n",
      "20/20 [==============================] - 0s 8ms/step - loss: 0.4468 - accuracy: 0.7866 - val_loss: 0.4257 - val_accuracy: 0.7948\n",
      "Epoch 14/100\n",
      "20/20 [==============================] - 0s 12ms/step - loss: 0.4331 - accuracy: 0.7932 - val_loss: 0.4172 - val_accuracy: 0.8192\n",
      "Epoch 15/100\n",
      "20/20 [==============================] - 0s 12ms/step - loss: 0.4153 - accuracy: 0.8111 - val_loss: 0.3955 - val_accuracy: 0.8192\n",
      "Epoch 16/100\n",
      "20/20 [==============================] - 0s 11ms/step - loss: 0.3991 - accuracy: 0.8257 - val_loss: 0.3934 - val_accuracy: 0.8160\n",
      "Epoch 17/100\n",
      "20/20 [==============================] - 0s 11ms/step - loss: 0.3971 - accuracy: 0.8225 - val_loss: 0.3662 - val_accuracy: 0.8550\n",
      "Epoch 18/100\n",
      "20/20 [==============================] - 0s 8ms/step - loss: 0.3780 - accuracy: 0.8469 - val_loss: 0.3503 - val_accuracy: 0.8502\n",
      "Epoch 19/100\n",
      "20/20 [==============================] - 0s 9ms/step - loss: 0.3727 - accuracy: 0.8420 - val_loss: 0.3383 - val_accuracy: 0.8746\n",
      "Epoch 20/100\n",
      "20/20 [==============================] - 0s 7ms/step - loss: 0.3555 - accuracy: 0.8599 - val_loss: 0.3550 - val_accuracy: 0.8371\n",
      "Epoch 21/100\n",
      "20/20 [==============================] - 0s 8ms/step - loss: 0.3971 - accuracy: 0.8225 - val_loss: 0.3583 - val_accuracy: 0.8583\n",
      "Epoch 22/100\n",
      "20/20 [==============================] - 0s 8ms/step - loss: 0.3515 - accuracy: 0.8534 - val_loss: 0.3065 - val_accuracy: 0.8681\n",
      "Epoch 23/100\n",
      "20/20 [==============================] - 0s 8ms/step - loss: 0.3357 - accuracy: 0.8632 - val_loss: 0.2814 - val_accuracy: 0.8925\n",
      "Epoch 24/100\n",
      "20/20 [==============================] - 0s 8ms/step - loss: 0.3122 - accuracy: 0.8779 - val_loss: 0.3425 - val_accuracy: 0.8436\n",
      "Epoch 25/100\n",
      "20/20 [==============================] - 0s 8ms/step - loss: 0.3422 - accuracy: 0.8713 - val_loss: 0.2966 - val_accuracy: 0.8811\n",
      "Epoch 26/100\n",
      "20/20 [==============================] - 0s 9ms/step - loss: 0.2942 - accuracy: 0.8795 - val_loss: 0.2407 - val_accuracy: 0.9072\n",
      "Epoch 27/100\n",
      "20/20 [==============================] - 0s 8ms/step - loss: 0.2782 - accuracy: 0.8811 - val_loss: 0.2543 - val_accuracy: 0.8941\n",
      "Epoch 28/100\n",
      "20/20 [==============================] - 0s 9ms/step - loss: 0.2711 - accuracy: 0.8893 - val_loss: 0.2312 - val_accuracy: 0.9055\n",
      "Epoch 29/100\n",
      "20/20 [==============================] - 0s 9ms/step - loss: 0.2296 - accuracy: 0.9039 - val_loss: 0.1777 - val_accuracy: 0.9365\n",
      "Epoch 30/100\n",
      "20/20 [==============================] - 0s 7ms/step - loss: 0.2151 - accuracy: 0.9251 - val_loss: 0.2215 - val_accuracy: 0.9055\n",
      "Epoch 31/100\n",
      "20/20 [==============================] - 0s 8ms/step - loss: 0.2384 - accuracy: 0.8893 - val_loss: 0.2114 - val_accuracy: 0.9104\n",
      "Epoch 32/100\n",
      "20/20 [==============================] - 0s 7ms/step - loss: 0.2086 - accuracy: 0.9186 - val_loss: 0.1897 - val_accuracy: 0.9202\n",
      "Epoch 33/100\n",
      "20/20 [==============================] - 0s 7ms/step - loss: 0.1853 - accuracy: 0.9235 - val_loss: 0.1470 - val_accuracy: 0.9397\n",
      "Epoch 34/100\n",
      "20/20 [==============================] - 0s 9ms/step - loss: 0.1814 - accuracy: 0.9267 - val_loss: 0.1145 - val_accuracy: 0.9528\n",
      "Epoch 35/100\n",
      "20/20 [==============================] - 0s 11ms/step - loss: 0.1522 - accuracy: 0.9332 - val_loss: 0.1567 - val_accuracy: 0.9463\n",
      "Epoch 36/100\n",
      "20/20 [==============================] - 0s 12ms/step - loss: 0.2020 - accuracy: 0.9121 - val_loss: 0.1219 - val_accuracy: 0.9479\n",
      "Epoch 37/100\n",
      "20/20 [==============================] - 0s 11ms/step - loss: 0.1408 - accuracy: 0.9397 - val_loss: 0.1246 - val_accuracy: 0.9463\n",
      "Epoch 38/100\n",
      "20/20 [==============================] - 0s 11ms/step - loss: 0.1312 - accuracy: 0.9397 - val_loss: 0.1518 - val_accuracy: 0.9593\n",
      "Epoch 39/100\n",
      "20/20 [==============================] - 0s 10ms/step - loss: 0.2916 - accuracy: 0.8860 - val_loss: 0.2702 - val_accuracy: 0.8746\n",
      "Epoch 40/100\n",
      "20/20 [==============================] - 0s 10ms/step - loss: 0.2270 - accuracy: 0.9104 - val_loss: 0.1269 - val_accuracy: 0.9479\n",
      "Epoch 41/100\n",
      "20/20 [==============================] - 0s 8ms/step - loss: 0.1791 - accuracy: 0.9316 - val_loss: 0.2780 - val_accuracy: 0.8941\n",
      "Epoch 42/100\n",
      "20/20 [==============================] - 0s 9ms/step - loss: 0.1907 - accuracy: 0.9218 - val_loss: 0.1106 - val_accuracy: 0.9593\n",
      "Epoch 43/100\n",
      "20/20 [==============================] - 0s 8ms/step - loss: 0.1140 - accuracy: 0.9577 - val_loss: 0.0654 - val_accuracy: 0.9788\n",
      "Epoch 44/100\n",
      "20/20 [==============================] - 0s 8ms/step - loss: 0.1202 - accuracy: 0.9560 - val_loss: 0.0750 - val_accuracy: 0.9625\n",
      "Epoch 45/100\n",
      "20/20 [==============================] - 0s 8ms/step - loss: 0.1109 - accuracy: 0.9609 - val_loss: 0.0657 - val_accuracy: 0.9853\n",
      "Epoch 46/100\n",
      "20/20 [==============================] - 0s 7ms/step - loss: 0.0915 - accuracy: 0.9658 - val_loss: 0.1150 - val_accuracy: 0.9511\n",
      "Epoch 47/100\n",
      "20/20 [==============================] - 0s 7ms/step - loss: 0.1202 - accuracy: 0.9609 - val_loss: 0.0837 - val_accuracy: 0.9788\n",
      "Epoch 48/100\n",
      "20/20 [==============================] - 0s 8ms/step - loss: 0.0819 - accuracy: 0.9707 - val_loss: 0.0611 - val_accuracy: 0.9756\n",
      "Epoch 49/100\n",
      "20/20 [==============================] - 0s 8ms/step - loss: 0.0801 - accuracy: 0.9707 - val_loss: 0.0830 - val_accuracy: 0.9739\n",
      "Epoch 50/100\n",
      "20/20 [==============================] - 0s 8ms/step - loss: 0.2085 - accuracy: 0.9186 - val_loss: 0.1937 - val_accuracy: 0.9300\n",
      "Epoch 51/100\n",
      "20/20 [==============================] - 0s 9ms/step - loss: 0.2058 - accuracy: 0.9218 - val_loss: 0.1484 - val_accuracy: 0.9495\n",
      "Epoch 52/100\n",
      "20/20 [==============================] - 0s 9ms/step - loss: 0.1312 - accuracy: 0.9544 - val_loss: 0.0752 - val_accuracy: 0.9756\n",
      "Epoch 53/100\n",
      "20/20 [==============================] - 0s 8ms/step - loss: 0.0917 - accuracy: 0.9658 - val_loss: 0.0547 - val_accuracy: 0.9821\n",
      "Epoch 54/100\n",
      "20/20 [==============================] - 0s 9ms/step - loss: 0.0776 - accuracy: 0.9658 - val_loss: 0.0441 - val_accuracy: 0.9886\n",
      "Epoch 55/100\n",
      "20/20 [==============================] - 0s 10ms/step - loss: 0.0753 - accuracy: 0.9691 - val_loss: 0.0460 - val_accuracy: 0.9821\n",
      "Epoch 56/100\n",
      "20/20 [==============================] - 0s 9ms/step - loss: 0.0809 - accuracy: 0.9674 - val_loss: 0.0324 - val_accuracy: 0.9902\n",
      "Epoch 57/100\n",
      "20/20 [==============================] - 0s 8ms/step - loss: 0.0407 - accuracy: 0.9870 - val_loss: 0.0235 - val_accuracy: 0.9935\n",
      "Epoch 58/100\n",
      "20/20 [==============================] - 0s 8ms/step - loss: 0.0303 - accuracy: 0.9886 - val_loss: 0.0213 - val_accuracy: 0.9951\n",
      "Epoch 59/100\n",
      "20/20 [==============================] - 0s 7ms/step - loss: 0.0345 - accuracy: 0.9902 - val_loss: 0.1478 - val_accuracy: 0.9593\n",
      "Epoch 60/100\n",
      "20/20 [==============================] - 0s 8ms/step - loss: 0.2421 - accuracy: 0.9104 - val_loss: 0.1978 - val_accuracy: 0.9446\n",
      "Epoch 61/100\n",
      "20/20 [==============================] - 0s 7ms/step - loss: 0.1592 - accuracy: 0.9446 - val_loss: 0.0919 - val_accuracy: 0.9707\n",
      "Epoch 62/100\n",
      "20/20 [==============================] - 0s 6ms/step - loss: 0.0853 - accuracy: 0.9674 - val_loss: 0.0671 - val_accuracy: 0.9707\n",
      "Epoch 63/100\n",
      "20/20 [==============================] - 0s 7ms/step - loss: 0.0707 - accuracy: 0.9739 - val_loss: 0.0411 - val_accuracy: 0.9870\n",
      "Epoch 64/100\n",
      "20/20 [==============================] - 0s 7ms/step - loss: 0.0532 - accuracy: 0.9805 - val_loss: 0.0314 - val_accuracy: 0.9919\n",
      "Epoch 65/100\n",
      "20/20 [==============================] - 0s 6ms/step - loss: 0.0769 - accuracy: 0.9723 - val_loss: 0.0884 - val_accuracy: 0.9642\n",
      "Epoch 66/100\n",
      "20/20 [==============================] - 0s 5ms/step - loss: 0.1031 - accuracy: 0.9625 - val_loss: 0.0611 - val_accuracy: 0.9756\n",
      "Epoch 67/100\n",
      "20/20 [==============================] - 0s 6ms/step - loss: 0.0639 - accuracy: 0.9772 - val_loss: 0.0499 - val_accuracy: 0.9853\n",
      "Epoch 68/100\n",
      "20/20 [==============================] - 0s 6ms/step - loss: 0.0478 - accuracy: 0.9837 - val_loss: 0.0166 - val_accuracy: 0.9984\n",
      "Epoch 69/100\n",
      "20/20 [==============================] - 0s 5ms/step - loss: 0.0214 - accuracy: 0.9935 - val_loss: 0.0196 - val_accuracy: 0.9902\n",
      "Epoch 70/100\n",
      "20/20 [==============================] - 0s 5ms/step - loss: 0.0185 - accuracy: 0.9919 - val_loss: 0.0363 - val_accuracy: 0.9870\n",
      "Epoch 71/100\n",
      "20/20 [==============================] - 0s 5ms/step - loss: 0.0387 - accuracy: 0.9886 - val_loss: 0.0074 - val_accuracy: 0.9984\n",
      "Epoch 72/100\n",
      "20/20 [==============================] - 0s 5ms/step - loss: 0.0083 - accuracy: 1.0000 - val_loss: 0.0056 - val_accuracy: 0.9984\n",
      "Epoch 73/100\n",
      "20/20 [==============================] - 0s 5ms/step - loss: 0.0089 - accuracy: 0.9984 - val_loss: 0.0015 - val_accuracy: 1.0000\n",
      "Epoch 74/100\n",
      "20/20 [==============================] - 0s 8ms/step - loss: 0.0021 - accuracy: 1.0000 - val_loss: 0.0016 - val_accuracy: 1.0000\n",
      "Epoch 75/100\n",
      "20/20 [==============================] - 0s 7ms/step - loss: 0.0639 - accuracy: 0.9805 - val_loss: 0.0658 - val_accuracy: 0.9805\n",
      "Epoch 76/100\n",
      "20/20 [==============================] - 0s 8ms/step - loss: 0.1025 - accuracy: 0.9674 - val_loss: 0.0731 - val_accuracy: 0.9756\n",
      "Epoch 77/100\n",
      "20/20 [==============================] - 0s 10ms/step - loss: 0.1160 - accuracy: 0.9609 - val_loss: 0.0658 - val_accuracy: 0.9739\n",
      "Epoch 78/100\n",
      "20/20 [==============================] - 0s 8ms/step - loss: 0.0764 - accuracy: 0.9788 - val_loss: 0.0440 - val_accuracy: 0.9886\n",
      "Epoch 79/100\n",
      "20/20 [==============================] - 0s 9ms/step - loss: 0.0327 - accuracy: 0.9919 - val_loss: 0.0183 - val_accuracy: 0.9951\n",
      "Epoch 80/100\n",
      "20/20 [==============================] - 0s 6ms/step - loss: 0.0168 - accuracy: 0.9951 - val_loss: 0.0143 - val_accuracy: 0.9951\n",
      "Epoch 81/100\n",
      "20/20 [==============================] - 0s 8ms/step - loss: 0.0266 - accuracy: 0.9886 - val_loss: 0.2790 - val_accuracy: 0.9511\n",
      "Epoch 82/100\n",
      "20/20 [==============================] - 0s 8ms/step - loss: 0.1653 - accuracy: 0.9544 - val_loss: 0.0810 - val_accuracy: 0.9853\n",
      "Epoch 83/100\n",
      "20/20 [==============================] - 0s 8ms/step - loss: 0.0843 - accuracy: 0.9756 - val_loss: 0.0494 - val_accuracy: 0.9853\n",
      "Epoch 84/100\n",
      "20/20 [==============================] - 0s 8ms/step - loss: 0.0403 - accuracy: 0.9870 - val_loss: 0.0196 - val_accuracy: 0.9935\n",
      "Epoch 85/100\n",
      "20/20 [==============================] - 0s 8ms/step - loss: 0.0320 - accuracy: 0.9853 - val_loss: 0.0891 - val_accuracy: 0.9707\n",
      "Epoch 86/100\n",
      "20/20 [==============================] - 0s 7ms/step - loss: 0.1240 - accuracy: 0.9609 - val_loss: 0.0865 - val_accuracy: 0.9674\n",
      "Epoch 87/100\n",
      "20/20 [==============================] - 0s 6ms/step - loss: 0.0737 - accuracy: 0.9805 - val_loss: 0.0380 - val_accuracy: 0.9951\n",
      "Epoch 88/100\n",
      "20/20 [==============================] - 0s 7ms/step - loss: 0.0375 - accuracy: 0.9902 - val_loss: 0.0284 - val_accuracy: 0.9902\n",
      "Epoch 89/100\n",
      "20/20 [==============================] - 0s 6ms/step - loss: 0.0326 - accuracy: 0.9919 - val_loss: 0.0196 - val_accuracy: 0.9967\n",
      "Epoch 90/100\n",
      "20/20 [==============================] - 0s 5ms/step - loss: 0.0795 - accuracy: 0.9837 - val_loss: 0.0257 - val_accuracy: 0.9935\n",
      "Epoch 91/100\n",
      "20/20 [==============================] - 0s 7ms/step - loss: 0.0321 - accuracy: 0.9919 - val_loss: 0.0124 - val_accuracy: 0.9967\n",
      "Epoch 92/100\n",
      "20/20 [==============================] - 0s 6ms/step - loss: 0.0222 - accuracy: 0.9919 - val_loss: 0.0056 - val_accuracy: 0.9984\n",
      "Epoch 93/100\n",
      "20/20 [==============================] - 0s 6ms/step - loss: 0.0050 - accuracy: 1.0000 - val_loss: 0.0025 - val_accuracy: 1.0000\n",
      "Epoch 94/100\n",
      "20/20 [==============================] - 0s 7ms/step - loss: 0.0029 - accuracy: 1.0000 - val_loss: 9.8578e-04 - val_accuracy: 1.0000\n",
      "Epoch 95/100\n",
      "20/20 [==============================] - 0s 9ms/step - loss: 8.7640e-04 - accuracy: 1.0000 - val_loss: 7.0921e-04 - val_accuracy: 1.0000\n",
      "Epoch 96/100\n",
      "20/20 [==============================] - 0s 6ms/step - loss: 6.5060e-04 - accuracy: 1.0000 - val_loss: 4.8420e-04 - val_accuracy: 1.0000\n",
      "Epoch 97/100\n",
      "20/20 [==============================] - 0s 10ms/step - loss: 4.3331e-04 - accuracy: 1.0000 - val_loss: 3.7335e-04 - val_accuracy: 1.0000\n",
      "Epoch 98/100\n",
      "20/20 [==============================] - 0s 7ms/step - loss: 3.4089e-04 - accuracy: 1.0000 - val_loss: 3.0832e-04 - val_accuracy: 1.0000\n",
      "Epoch 99/100\n",
      "20/20 [==============================] - 0s 7ms/step - loss: 2.8557e-04 - accuracy: 1.0000 - val_loss: 2.5508e-04 - val_accuracy: 1.0000\n",
      "Epoch 100/100\n",
      "20/20 [==============================] - 0s 6ms/step - loss: 2.4086e-04 - accuracy: 1.0000 - val_loss: 2.1945e-04 - val_accuracy: 1.0000\n"
     ]
    },
    {
     "data": {
      "text/plain": [
       "<keras.src.callbacks.History at 0x14b06d61cf0>"
      ]
     },
     "execution_count": 91,
     "metadata": {},
     "output_type": "execute_result"
    }
   ],
   "source": [
    "m3.fit(X_train,y_train,epochs=100,initial_epoch=11,validation_data=(X_train,y_train))"
   ]
  },
  {
   "cell_type": "code",
   "execution_count": 92,
   "id": "0dd4e08a",
   "metadata": {},
   "outputs": [],
   "source": [
    "#Combination"
   ]
  },
  {
   "cell_type": "code",
   "execution_count": 109,
   "id": "29b8c652",
   "metadata": {},
   "outputs": [],
   "source": [
    "def build_model_mix(hp):\n",
    "    model=Sequential()\n",
    "    c=0\n",
    "    for i in range(hp.Int('num_layers',min_value=1,max_value=20)):\n",
    "        if c==0:\n",
    "            model.add(Dense(hp.Int('units'+str(i),min_value=8,max_value=128,step=8),activation=hp.Choice('activation'+str(i),values=['relu','tanh','sigmoid']),input_dim=8))\n",
    "        else:\n",
    "            model.add(Dense(hp.Int('units'+str(i),min_value=8,max_value=128,step=8),activation=hp.Choice('activation'+str(i),values=['relu','tanh','sigmoid'])))\n",
    "        c+=1\n",
    "    model.compile(optimizer=hp.Choice('optimizer',values=['adam','rmsprop','sgd','adadelta']),loss='binary_crossentropy',metrics=['accuracy'])\n",
    "    return model"
   ]
  },
  {
   "cell_type": "code",
   "execution_count": 112,
   "id": "9da8e059",
   "metadata": {},
   "outputs": [],
   "source": [
    "tuner_new=kt.RandomSearch(build_model_mix,objective='val_accuracy',max_trials=5,directory='f')"
   ]
  },
  {
   "cell_type": "code",
   "execution_count": 113,
   "id": "37cddc38",
   "metadata": {},
   "outputs": [
    {
     "name": "stdout",
     "output_type": "stream",
     "text": [
      "Trial 5 Complete [00h 00m 04s]\n",
      "val_accuracy: 0.0\n",
      "\n",
      "Best val_accuracy So Far: 0.0\n",
      "Total elapsed time: 00h 00m 19s\n"
     ]
    }
   ],
   "source": [
    "tuner_new.search(X_train,y_train,validation_data=(X_test,y_test),epochs=5,batch_size=32)"
   ]
  },
  {
   "cell_type": "code",
   "execution_count": 114,
   "id": "3d5bd69c",
   "metadata": {},
   "outputs": [
    {
     "data": {
      "text/plain": [
       "{'num_layers': 11,\n",
       " 'units0': 96,\n",
       " 'activation0': 'tanh',\n",
       " 'optimizer': 'sgd',\n",
       " 'units1': 8,\n",
       " 'activation1': 'relu',\n",
       " 'units2': 8,\n",
       " 'activation2': 'relu',\n",
       " 'units3': 8,\n",
       " 'activation3': 'relu',\n",
       " 'units4': 8,\n",
       " 'activation4': 'relu',\n",
       " 'units5': 8,\n",
       " 'activation5': 'relu',\n",
       " 'units6': 8,\n",
       " 'activation6': 'relu',\n",
       " 'units7': 8,\n",
       " 'activation7': 'relu',\n",
       " 'units8': 8,\n",
       " 'activation8': 'relu',\n",
       " 'units9': 8,\n",
       " 'activation9': 'relu',\n",
       " 'units10': 8,\n",
       " 'activation10': 'relu'}"
      ]
     },
     "execution_count": 114,
     "metadata": {},
     "output_type": "execute_result"
    }
   ],
   "source": [
    "tuner_new.get_best_hyperparameters()[0].values"
   ]
  },
  {
   "cell_type": "code",
   "execution_count": 115,
   "id": "6fb194fb",
   "metadata": {},
   "outputs": [],
   "source": [
    "model_final=tuner_new.get_best_models(num_models=1)[0]"
   ]
  },
  {
   "cell_type": "code",
   "execution_count": 116,
   "id": "f51b2fec",
   "metadata": {
    "scrolled": true
   },
   "outputs": [
    {
     "name": "stdout",
     "output_type": "stream",
     "text": [
      "Model: \"sequential\"\n",
      "_________________________________________________________________\n",
      " Layer (type)                Output Shape              Param #   \n",
      "=================================================================\n",
      " dense (Dense)               (None, 96)                864       \n",
      "                                                                 \n",
      " dense_1 (Dense)             (None, 8)                 776       \n",
      "                                                                 \n",
      " dense_2 (Dense)             (None, 8)                 72        \n",
      "                                                                 \n",
      " dense_3 (Dense)             (None, 8)                 72        \n",
      "                                                                 \n",
      " dense_4 (Dense)             (None, 8)                 72        \n",
      "                                                                 \n",
      " dense_5 (Dense)             (None, 8)                 72        \n",
      "                                                                 \n",
      " dense_6 (Dense)             (None, 8)                 72        \n",
      "                                                                 \n",
      " dense_7 (Dense)             (None, 8)                 72        \n",
      "                                                                 \n",
      " dense_8 (Dense)             (None, 8)                 72        \n",
      "                                                                 \n",
      " dense_9 (Dense)             (None, 8)                 72        \n",
      "                                                                 \n",
      " dense_10 (Dense)            (None, 8)                 72        \n",
      "                                                                 \n",
      "=================================================================\n",
      "Total params: 2288 (8.94 KB)\n",
      "Trainable params: 2288 (8.94 KB)\n",
      "Non-trainable params: 0 (0.00 Byte)\n",
      "_________________________________________________________________\n"
     ]
    }
   ],
   "source": [
    "model_final.summary()"
   ]
  },
  {
   "cell_type": "code",
   "execution_count": 117,
   "id": "c55125ca",
   "metadata": {},
   "outputs": [
    {
     "name": "stdout",
     "output_type": "stream",
     "text": [
      "Epoch 7/100\n",
      "20/20 [==============================] - 2s 22ms/step - loss: 8.8071 - accuracy: 0.0000e+00 - val_loss: 8.7295 - val_accuracy: 0.0000e+00\n",
      "Epoch 8/100\n",
      "20/20 [==============================] - 0s 6ms/step - loss: 8.8071 - accuracy: 0.0000e+00 - val_loss: 8.7295 - val_accuracy: 0.0000e+00\n",
      "Epoch 9/100\n",
      "20/20 [==============================] - 0s 6ms/step - loss: 8.8071 - accuracy: 0.0000e+00 - val_loss: 8.7295 - val_accuracy: 0.0000e+00\n",
      "Epoch 10/100\n",
      "20/20 [==============================] - 0s 6ms/step - loss: 8.8071 - accuracy: 0.0000e+00 - val_loss: 8.7295 - val_accuracy: 0.0000e+00\n",
      "Epoch 11/100\n",
      "20/20 [==============================] - 0s 6ms/step - loss: 8.8071 - accuracy: 0.0000e+00 - val_loss: 8.7295 - val_accuracy: 0.0000e+00\n",
      "Epoch 12/100\n",
      "20/20 [==============================] - 0s 8ms/step - loss: 8.8071 - accuracy: 0.0000e+00 - val_loss: 8.7295 - val_accuracy: 0.0000e+00\n",
      "Epoch 13/100\n",
      "20/20 [==============================] - 0s 6ms/step - loss: 8.8071 - accuracy: 0.0000e+00 - val_loss: 8.7295 - val_accuracy: 0.0000e+00\n",
      "Epoch 14/100\n",
      "20/20 [==============================] - 0s 9ms/step - loss: 8.8071 - accuracy: 0.0000e+00 - val_loss: 8.7295 - val_accuracy: 0.0000e+00\n",
      "Epoch 15/100\n",
      "20/20 [==============================] - 0s 6ms/step - loss: 8.8071 - accuracy: 0.0000e+00 - val_loss: 8.7295 - val_accuracy: 0.0000e+00\n",
      "Epoch 16/100\n",
      "20/20 [==============================] - 0s 6ms/step - loss: 8.8071 - accuracy: 0.0000e+00 - val_loss: 8.7295 - val_accuracy: 0.0000e+00\n",
      "Epoch 17/100\n",
      "20/20 [==============================] - 0s 6ms/step - loss: 8.8071 - accuracy: 0.0000e+00 - val_loss: 8.7295 - val_accuracy: 0.0000e+00\n",
      "Epoch 18/100\n",
      "20/20 [==============================] - 0s 6ms/step - loss: 8.8071 - accuracy: 0.0000e+00 - val_loss: 8.7295 - val_accuracy: 0.0000e+00\n",
      "Epoch 19/100\n",
      "20/20 [==============================] - 0s 6ms/step - loss: 8.8071 - accuracy: 0.0000e+00 - val_loss: 8.7295 - val_accuracy: 0.0000e+00\n",
      "Epoch 20/100\n",
      "20/20 [==============================] - 0s 6ms/step - loss: 8.8071 - accuracy: 0.0000e+00 - val_loss: 8.7295 - val_accuracy: 0.0000e+00\n",
      "Epoch 21/100\n",
      "20/20 [==============================] - 0s 6ms/step - loss: 8.8071 - accuracy: 0.0000e+00 - val_loss: 8.7295 - val_accuracy: 0.0000e+00\n",
      "Epoch 22/100\n",
      "20/20 [==============================] - 0s 6ms/step - loss: 8.8071 - accuracy: 0.0000e+00 - val_loss: 8.7295 - val_accuracy: 0.0000e+00\n",
      "Epoch 23/100\n",
      "20/20 [==============================] - 0s 6ms/step - loss: 8.8071 - accuracy: 0.0000e+00 - val_loss: 8.7295 - val_accuracy: 0.0000e+00\n",
      "Epoch 24/100\n",
      "20/20 [==============================] - 0s 7ms/step - loss: 8.8071 - accuracy: 0.0000e+00 - val_loss: 8.7295 - val_accuracy: 0.0000e+00\n",
      "Epoch 25/100\n",
      "20/20 [==============================] - 0s 6ms/step - loss: 8.8071 - accuracy: 0.0000e+00 - val_loss: 8.7295 - val_accuracy: 0.0000e+00\n",
      "Epoch 26/100\n",
      "20/20 [==============================] - 0s 9ms/step - loss: 8.8071 - accuracy: 0.0000e+00 - val_loss: 8.7295 - val_accuracy: 0.0000e+00\n",
      "Epoch 27/100\n",
      "20/20 [==============================] - 0s 10ms/step - loss: 8.8071 - accuracy: 0.0000e+00 - val_loss: 8.7295 - val_accuracy: 0.0000e+00\n",
      "Epoch 28/100\n",
      "20/20 [==============================] - 0s 9ms/step - loss: 8.8071 - accuracy: 0.0000e+00 - val_loss: 8.7295 - val_accuracy: 0.0000e+00\n",
      "Epoch 29/100\n",
      "20/20 [==============================] - 0s 6ms/step - loss: 8.8071 - accuracy: 0.0000e+00 - val_loss: 8.7295 - val_accuracy: 0.0000e+00\n",
      "Epoch 30/100\n",
      "20/20 [==============================] - 0s 7ms/step - loss: 8.8071 - accuracy: 0.0000e+00 - val_loss: 8.7295 - val_accuracy: 0.0000e+00\n",
      "Epoch 31/100\n",
      "20/20 [==============================] - 0s 6ms/step - loss: 8.8071 - accuracy: 0.0000e+00 - val_loss: 8.7295 - val_accuracy: 0.0000e+00\n",
      "Epoch 32/100\n",
      "20/20 [==============================] - 0s 6ms/step - loss: 8.8071 - accuracy: 0.0000e+00 - val_loss: 8.7295 - val_accuracy: 0.0000e+00\n",
      "Epoch 33/100\n",
      "20/20 [==============================] - 0s 6ms/step - loss: 8.8071 - accuracy: 0.0000e+00 - val_loss: 8.7295 - val_accuracy: 0.0000e+00\n",
      "Epoch 34/100\n",
      "20/20 [==============================] - 0s 6ms/step - loss: 8.8071 - accuracy: 0.0000e+00 - val_loss: 8.7295 - val_accuracy: 0.0000e+00\n",
      "Epoch 35/100\n",
      "20/20 [==============================] - 0s 6ms/step - loss: 8.8071 - accuracy: 0.0000e+00 - val_loss: 8.7295 - val_accuracy: 0.0000e+00\n",
      "Epoch 36/100\n",
      "20/20 [==============================] - 0s 5ms/step - loss: 8.8071 - accuracy: 0.0000e+00 - val_loss: 8.7295 - val_accuracy: 0.0000e+00\n",
      "Epoch 37/100\n",
      "20/20 [==============================] - 0s 6ms/step - loss: 8.8071 - accuracy: 0.0000e+00 - val_loss: 8.7295 - val_accuracy: 0.0000e+00\n",
      "Epoch 38/100\n",
      "20/20 [==============================] - 0s 6ms/step - loss: 8.8071 - accuracy: 0.0000e+00 - val_loss: 8.7295 - val_accuracy: 0.0000e+00\n",
      "Epoch 39/100\n",
      "20/20 [==============================] - 0s 6ms/step - loss: 8.8071 - accuracy: 0.0000e+00 - val_loss: 8.7295 - val_accuracy: 0.0000e+00\n",
      "Epoch 40/100\n",
      "20/20 [==============================] - 0s 6ms/step - loss: 8.8071 - accuracy: 0.0000e+00 - val_loss: 8.7295 - val_accuracy: 0.0000e+00\n",
      "Epoch 41/100\n",
      "20/20 [==============================] - 0s 6ms/step - loss: 8.8071 - accuracy: 0.0000e+00 - val_loss: 8.7295 - val_accuracy: 0.0000e+00\n",
      "Epoch 42/100\n",
      "20/20 [==============================] - 0s 6ms/step - loss: 8.8071 - accuracy: 0.0000e+00 - val_loss: 8.7295 - val_accuracy: 0.0000e+00\n",
      "Epoch 43/100\n",
      "20/20 [==============================] - 0s 6ms/step - loss: 8.8071 - accuracy: 0.0000e+00 - val_loss: 8.7295 - val_accuracy: 0.0000e+00\n",
      "Epoch 44/100\n",
      "20/20 [==============================] - 0s 6ms/step - loss: 8.8071 - accuracy: 0.0000e+00 - val_loss: 8.7295 - val_accuracy: 0.0000e+00\n",
      "Epoch 45/100\n",
      "20/20 [==============================] - 0s 6ms/step - loss: 8.8071 - accuracy: 0.0000e+00 - val_loss: 8.7295 - val_accuracy: 0.0000e+00\n",
      "Epoch 46/100\n",
      "20/20 [==============================] - 0s 6ms/step - loss: 8.8071 - accuracy: 0.0000e+00 - val_loss: 8.7295 - val_accuracy: 0.0000e+00\n",
      "Epoch 47/100\n",
      "20/20 [==============================] - 0s 7ms/step - loss: 8.8071 - accuracy: 0.0000e+00 - val_loss: 8.7295 - val_accuracy: 0.0000e+00\n",
      "Epoch 48/100\n",
      "20/20 [==============================] - 0s 6ms/step - loss: 8.8071 - accuracy: 0.0000e+00 - val_loss: 8.7295 - val_accuracy: 0.0000e+00\n",
      "Epoch 49/100\n",
      "20/20 [==============================] - 0s 6ms/step - loss: 8.8071 - accuracy: 0.0000e+00 - val_loss: 8.7295 - val_accuracy: 0.0000e+00\n",
      "Epoch 50/100\n",
      "20/20 [==============================] - 0s 6ms/step - loss: 8.8071 - accuracy: 0.0000e+00 - val_loss: 8.7295 - val_accuracy: 0.0000e+00\n",
      "Epoch 51/100\n",
      "20/20 [==============================] - 0s 6ms/step - loss: 8.8071 - accuracy: 0.0000e+00 - val_loss: 8.7295 - val_accuracy: 0.0000e+00\n",
      "Epoch 52/100\n",
      "20/20 [==============================] - 0s 6ms/step - loss: 8.8071 - accuracy: 0.0000e+00 - val_loss: 8.7295 - val_accuracy: 0.0000e+00\n",
      "Epoch 53/100\n",
      "20/20 [==============================] - 0s 7ms/step - loss: 8.8071 - accuracy: 0.0000e+00 - val_loss: 8.7295 - val_accuracy: 0.0000e+00\n",
      "Epoch 54/100\n",
      "20/20 [==============================] - 0s 6ms/step - loss: 8.8071 - accuracy: 0.0000e+00 - val_loss: 8.7295 - val_accuracy: 0.0000e+00\n",
      "Epoch 55/100\n",
      "20/20 [==============================] - 0s 6ms/step - loss: 8.8071 - accuracy: 0.0000e+00 - val_loss: 8.7295 - val_accuracy: 0.0000e+00\n",
      "Epoch 56/100\n",
      "20/20 [==============================] - 0s 10ms/step - loss: 8.8071 - accuracy: 0.0000e+00 - val_loss: 8.7295 - val_accuracy: 0.0000e+00\n",
      "Epoch 57/100\n",
      "20/20 [==============================] - 0s 5ms/step - loss: 8.8071 - accuracy: 0.0000e+00 - val_loss: 8.7295 - val_accuracy: 0.0000e+00\n",
      "Epoch 58/100\n",
      "20/20 [==============================] - 0s 6ms/step - loss: 8.8071 - accuracy: 0.0000e+00 - val_loss: 8.7295 - val_accuracy: 0.0000e+00\n",
      "Epoch 59/100\n",
      "20/20 [==============================] - 0s 5ms/step - loss: 8.8071 - accuracy: 0.0000e+00 - val_loss: 8.7295 - val_accuracy: 0.0000e+00\n",
      "Epoch 60/100\n",
      "20/20 [==============================] - 0s 5ms/step - loss: 8.8071 - accuracy: 0.0000e+00 - val_loss: 8.7295 - val_accuracy: 0.0000e+00\n",
      "Epoch 61/100\n",
      "20/20 [==============================] - 0s 5ms/step - loss: 8.8071 - accuracy: 0.0000e+00 - val_loss: 8.7295 - val_accuracy: 0.0000e+00\n",
      "Epoch 62/100\n",
      "20/20 [==============================] - 0s 7ms/step - loss: 8.8071 - accuracy: 0.0000e+00 - val_loss: 8.7295 - val_accuracy: 0.0000e+00\n",
      "Epoch 63/100\n",
      "20/20 [==============================] - 0s 6ms/step - loss: 8.8071 - accuracy: 0.0000e+00 - val_loss: 8.7295 - val_accuracy: 0.0000e+00\n",
      "Epoch 64/100\n",
      "20/20 [==============================] - 0s 5ms/step - loss: 8.8071 - accuracy: 0.0000e+00 - val_loss: 8.7295 - val_accuracy: 0.0000e+00\n",
      "Epoch 65/100\n",
      "20/20 [==============================] - 0s 8ms/step - loss: 8.8071 - accuracy: 0.0000e+00 - val_loss: 8.7295 - val_accuracy: 0.0000e+00\n",
      "Epoch 66/100\n",
      "20/20 [==============================] - 0s 4ms/step - loss: 8.8071 - accuracy: 0.0000e+00 - val_loss: 8.7295 - val_accuracy: 0.0000e+00\n",
      "Epoch 67/100\n",
      "20/20 [==============================] - 0s 5ms/step - loss: 8.8071 - accuracy: 0.0000e+00 - val_loss: 8.7295 - val_accuracy: 0.0000e+00\n",
      "Epoch 68/100\n",
      "20/20 [==============================] - 0s 4ms/step - loss: 8.8071 - accuracy: 0.0000e+00 - val_loss: 8.7295 - val_accuracy: 0.0000e+00\n",
      "Epoch 69/100\n",
      "20/20 [==============================] - 0s 5ms/step - loss: 8.8071 - accuracy: 0.0000e+00 - val_loss: 8.7295 - val_accuracy: 0.0000e+00\n",
      "Epoch 70/100\n",
      "20/20 [==============================] - 0s 5ms/step - loss: 8.8071 - accuracy: 0.0000e+00 - val_loss: 8.7295 - val_accuracy: 0.0000e+00\n",
      "Epoch 71/100\n",
      "20/20 [==============================] - 0s 4ms/step - loss: 8.8071 - accuracy: 0.0000e+00 - val_loss: 8.7295 - val_accuracy: 0.0000e+00\n",
      "Epoch 72/100\n",
      "20/20 [==============================] - 0s 6ms/step - loss: 8.8071 - accuracy: 0.0000e+00 - val_loss: 8.7295 - val_accuracy: 0.0000e+00\n",
      "Epoch 73/100\n",
      "20/20 [==============================] - 0s 5ms/step - loss: 8.8071 - accuracy: 0.0000e+00 - val_loss: 8.7295 - val_accuracy: 0.0000e+00\n",
      "Epoch 74/100\n",
      "20/20 [==============================] - 0s 5ms/step - loss: 8.8071 - accuracy: 0.0000e+00 - val_loss: 8.7295 - val_accuracy: 0.0000e+00\n",
      "Epoch 75/100\n",
      "20/20 [==============================] - 0s 5ms/step - loss: 8.8071 - accuracy: 0.0000e+00 - val_loss: 8.7295 - val_accuracy: 0.0000e+00\n",
      "Epoch 76/100\n",
      "20/20 [==============================] - 0s 4ms/step - loss: 8.8071 - accuracy: 0.0000e+00 - val_loss: 8.7295 - val_accuracy: 0.0000e+00\n",
      "Epoch 77/100\n",
      "20/20 [==============================] - 0s 5ms/step - loss: 8.8071 - accuracy: 0.0000e+00 - val_loss: 8.7295 - val_accuracy: 0.0000e+00\n",
      "Epoch 78/100\n",
      "20/20 [==============================] - 0s 9ms/step - loss: 8.8071 - accuracy: 0.0000e+00 - val_loss: 8.7295 - val_accuracy: 0.0000e+00\n",
      "Epoch 79/100\n",
      "20/20 [==============================] - 0s 6ms/step - loss: 8.8071 - accuracy: 0.0000e+00 - val_loss: 8.7295 - val_accuracy: 0.0000e+00\n",
      "Epoch 80/100\n",
      "20/20 [==============================] - 0s 9ms/step - loss: 8.8071 - accuracy: 0.0000e+00 - val_loss: 8.7295 - val_accuracy: 0.0000e+00\n",
      "Epoch 81/100\n",
      "20/20 [==============================] - 0s 9ms/step - loss: 8.8071 - accuracy: 0.0000e+00 - val_loss: 8.7295 - val_accuracy: 0.0000e+00\n",
      "Epoch 82/100\n",
      "20/20 [==============================] - 0s 10ms/step - loss: 8.8071 - accuracy: 0.0000e+00 - val_loss: 8.7295 - val_accuracy: 0.0000e+00\n",
      "Epoch 83/100\n",
      "20/20 [==============================] - 0s 7ms/step - loss: 8.8071 - accuracy: 0.0000e+00 - val_loss: 8.7295 - val_accuracy: 0.0000e+00\n",
      "Epoch 84/100\n",
      "20/20 [==============================] - 0s 5ms/step - loss: 8.8071 - accuracy: 0.0000e+00 - val_loss: 8.7295 - val_accuracy: 0.0000e+00\n",
      "Epoch 85/100\n",
      "20/20 [==============================] - 0s 5ms/step - loss: 8.8071 - accuracy: 0.0000e+00 - val_loss: 8.7295 - val_accuracy: 0.0000e+00\n",
      "Epoch 86/100\n",
      "20/20 [==============================] - 0s 5ms/step - loss: 8.8071 - accuracy: 0.0000e+00 - val_loss: 8.7295 - val_accuracy: 0.0000e+00\n",
      "Epoch 87/100\n",
      "20/20 [==============================] - 0s 4ms/step - loss: 8.8071 - accuracy: 0.0000e+00 - val_loss: 8.7295 - val_accuracy: 0.0000e+00\n",
      "Epoch 88/100\n",
      "20/20 [==============================] - 0s 5ms/step - loss: 8.8071 - accuracy: 0.0000e+00 - val_loss: 8.7295 - val_accuracy: 0.0000e+00\n",
      "Epoch 89/100\n",
      "20/20 [==============================] - 0s 4ms/step - loss: 8.8071 - accuracy: 0.0000e+00 - val_loss: 8.7295 - val_accuracy: 0.0000e+00\n",
      "Epoch 90/100\n",
      "20/20 [==============================] - 0s 4ms/step - loss: 8.8071 - accuracy: 0.0000e+00 - val_loss: 8.7295 - val_accuracy: 0.0000e+00\n",
      "Epoch 91/100\n",
      "20/20 [==============================] - 0s 5ms/step - loss: 8.8071 - accuracy: 0.0000e+00 - val_loss: 8.7295 - val_accuracy: 0.0000e+00\n",
      "Epoch 92/100\n",
      "20/20 [==============================] - 0s 6ms/step - loss: 8.8071 - accuracy: 0.0000e+00 - val_loss: 8.7295 - val_accuracy: 0.0000e+00\n",
      "Epoch 93/100\n",
      "20/20 [==============================] - 0s 4ms/step - loss: 8.8071 - accuracy: 0.0000e+00 - val_loss: 8.7295 - val_accuracy: 0.0000e+00\n",
      "Epoch 94/100\n",
      "20/20 [==============================] - 0s 8ms/step - loss: 8.8071 - accuracy: 0.0000e+00 - val_loss: 8.7295 - val_accuracy: 0.0000e+00\n",
      "Epoch 95/100\n",
      "20/20 [==============================] - 0s 6ms/step - loss: 8.8071 - accuracy: 0.0000e+00 - val_loss: 8.7295 - val_accuracy: 0.0000e+00\n",
      "Epoch 96/100\n",
      "20/20 [==============================] - 0s 4ms/step - loss: 8.8071 - accuracy: 0.0000e+00 - val_loss: 8.7295 - val_accuracy: 0.0000e+00\n",
      "Epoch 97/100\n",
      "20/20 [==============================] - 0s 5ms/step - loss: 8.8071 - accuracy: 0.0000e+00 - val_loss: 8.7295 - val_accuracy: 0.0000e+00\n",
      "Epoch 98/100\n",
      "20/20 [==============================] - 0s 4ms/step - loss: 8.8071 - accuracy: 0.0000e+00 - val_loss: 8.7295 - val_accuracy: 0.0000e+00\n",
      "Epoch 99/100\n",
      "20/20 [==============================] - 0s 5ms/step - loss: 8.8071 - accuracy: 0.0000e+00 - val_loss: 8.7295 - val_accuracy: 0.0000e+00\n",
      "Epoch 100/100\n",
      "20/20 [==============================] - 0s 5ms/step - loss: 8.8071 - accuracy: 0.0000e+00 - val_loss: 8.7295 - val_accuracy: 0.0000e+00\n"
     ]
    }
   ],
   "source": [
    "H=model_final.fit(X_train,y_train,validation_data=(X_test,y_test),initial_epoch=6,epochs=100)"
   ]
  },
  {
   "cell_type": "code",
   "execution_count": null,
   "id": "d7d3a1b1",
   "metadata": {},
   "outputs": [],
   "source": []
  }
 ],
 "metadata": {
  "kernelspec": {
   "display_name": "Python 3 (ipykernel)",
   "language": "python",
   "name": "python3"
  },
  "language_info": {
   "codemirror_mode": {
    "name": "ipython",
    "version": 3
   },
   "file_extension": ".py",
   "mimetype": "text/x-python",
   "name": "python",
   "nbconvert_exporter": "python",
   "pygments_lexer": "ipython3",
   "version": "3.10.9"
  }
 },
 "nbformat": 4,
 "nbformat_minor": 5
}
