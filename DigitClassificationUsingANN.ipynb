{
 "cells": [
  {
   "cell_type": "code",
   "execution_count": 1,
   "id": "5acb75b6",
   "metadata": {},
   "outputs": [
    {
     "name": "stderr",
     "output_type": "stream",
     "text": [
      "C:\\Users\\ASUS\\AppData\\Roaming\\Python\\Python310\\site-packages\\pandas\\core\\arrays\\masked.py:60: UserWarning: Pandas requires version '1.3.6' or newer of 'bottleneck' (version '1.3.5' currently installed).\n",
      "  from pandas.core import (\n"
     ]
    }
   ],
   "source": [
    "import pandas as pd\n",
    "import numpy as np\n",
    "import matplotlib.pyplot as plt\n",
    "import seaborn as sns"
   ]
  },
  {
   "cell_type": "code",
   "execution_count": 2,
   "id": "b8f1248e",
   "metadata": {},
   "outputs": [],
   "source": [
    "df=pd.read_csv(r\"G:\\datasets\\MNIST_train.csv\")"
   ]
  },
  {
   "cell_type": "code",
   "execution_count": 3,
   "id": "6ec316f9",
   "metadata": {},
   "outputs": [
    {
     "data": {
      "text/html": [
       "<div>\n",
       "<style scoped>\n",
       "    .dataframe tbody tr th:only-of-type {\n",
       "        vertical-align: middle;\n",
       "    }\n",
       "\n",
       "    .dataframe tbody tr th {\n",
       "        vertical-align: top;\n",
       "    }\n",
       "\n",
       "    .dataframe thead th {\n",
       "        text-align: right;\n",
       "    }\n",
       "</style>\n",
       "<table border=\"1\" class=\"dataframe\">\n",
       "  <thead>\n",
       "    <tr style=\"text-align: right;\">\n",
       "      <th></th>\n",
       "      <th>label</th>\n",
       "      <th>pixel0</th>\n",
       "      <th>pixel1</th>\n",
       "      <th>pixel2</th>\n",
       "      <th>pixel3</th>\n",
       "      <th>pixel4</th>\n",
       "      <th>pixel5</th>\n",
       "      <th>pixel6</th>\n",
       "      <th>pixel7</th>\n",
       "      <th>pixel8</th>\n",
       "      <th>...</th>\n",
       "      <th>pixel774</th>\n",
       "      <th>pixel775</th>\n",
       "      <th>pixel776</th>\n",
       "      <th>pixel777</th>\n",
       "      <th>pixel778</th>\n",
       "      <th>pixel779</th>\n",
       "      <th>pixel780</th>\n",
       "      <th>pixel781</th>\n",
       "      <th>pixel782</th>\n",
       "      <th>pixel783</th>\n",
       "    </tr>\n",
       "  </thead>\n",
       "  <tbody>\n",
       "    <tr>\n",
       "      <th>0</th>\n",
       "      <td>1</td>\n",
       "      <td>0</td>\n",
       "      <td>0</td>\n",
       "      <td>0</td>\n",
       "      <td>0</td>\n",
       "      <td>0</td>\n",
       "      <td>0</td>\n",
       "      <td>0</td>\n",
       "      <td>0</td>\n",
       "      <td>0</td>\n",
       "      <td>...</td>\n",
       "      <td>0</td>\n",
       "      <td>0</td>\n",
       "      <td>0</td>\n",
       "      <td>0</td>\n",
       "      <td>0</td>\n",
       "      <td>0</td>\n",
       "      <td>0</td>\n",
       "      <td>0</td>\n",
       "      <td>0</td>\n",
       "      <td>0</td>\n",
       "    </tr>\n",
       "    <tr>\n",
       "      <th>1</th>\n",
       "      <td>0</td>\n",
       "      <td>0</td>\n",
       "      <td>0</td>\n",
       "      <td>0</td>\n",
       "      <td>0</td>\n",
       "      <td>0</td>\n",
       "      <td>0</td>\n",
       "      <td>0</td>\n",
       "      <td>0</td>\n",
       "      <td>0</td>\n",
       "      <td>...</td>\n",
       "      <td>0</td>\n",
       "      <td>0</td>\n",
       "      <td>0</td>\n",
       "      <td>0</td>\n",
       "      <td>0</td>\n",
       "      <td>0</td>\n",
       "      <td>0</td>\n",
       "      <td>0</td>\n",
       "      <td>0</td>\n",
       "      <td>0</td>\n",
       "    </tr>\n",
       "    <tr>\n",
       "      <th>2</th>\n",
       "      <td>1</td>\n",
       "      <td>0</td>\n",
       "      <td>0</td>\n",
       "      <td>0</td>\n",
       "      <td>0</td>\n",
       "      <td>0</td>\n",
       "      <td>0</td>\n",
       "      <td>0</td>\n",
       "      <td>0</td>\n",
       "      <td>0</td>\n",
       "      <td>...</td>\n",
       "      <td>0</td>\n",
       "      <td>0</td>\n",
       "      <td>0</td>\n",
       "      <td>0</td>\n",
       "      <td>0</td>\n",
       "      <td>0</td>\n",
       "      <td>0</td>\n",
       "      <td>0</td>\n",
       "      <td>0</td>\n",
       "      <td>0</td>\n",
       "    </tr>\n",
       "    <tr>\n",
       "      <th>3</th>\n",
       "      <td>4</td>\n",
       "      <td>0</td>\n",
       "      <td>0</td>\n",
       "      <td>0</td>\n",
       "      <td>0</td>\n",
       "      <td>0</td>\n",
       "      <td>0</td>\n",
       "      <td>0</td>\n",
       "      <td>0</td>\n",
       "      <td>0</td>\n",
       "      <td>...</td>\n",
       "      <td>0</td>\n",
       "      <td>0</td>\n",
       "      <td>0</td>\n",
       "      <td>0</td>\n",
       "      <td>0</td>\n",
       "      <td>0</td>\n",
       "      <td>0</td>\n",
       "      <td>0</td>\n",
       "      <td>0</td>\n",
       "      <td>0</td>\n",
       "    </tr>\n",
       "    <tr>\n",
       "      <th>4</th>\n",
       "      <td>0</td>\n",
       "      <td>0</td>\n",
       "      <td>0</td>\n",
       "      <td>0</td>\n",
       "      <td>0</td>\n",
       "      <td>0</td>\n",
       "      <td>0</td>\n",
       "      <td>0</td>\n",
       "      <td>0</td>\n",
       "      <td>0</td>\n",
       "      <td>...</td>\n",
       "      <td>0</td>\n",
       "      <td>0</td>\n",
       "      <td>0</td>\n",
       "      <td>0</td>\n",
       "      <td>0</td>\n",
       "      <td>0</td>\n",
       "      <td>0</td>\n",
       "      <td>0</td>\n",
       "      <td>0</td>\n",
       "      <td>0</td>\n",
       "    </tr>\n",
       "    <tr>\n",
       "      <th>...</th>\n",
       "      <td>...</td>\n",
       "      <td>...</td>\n",
       "      <td>...</td>\n",
       "      <td>...</td>\n",
       "      <td>...</td>\n",
       "      <td>...</td>\n",
       "      <td>...</td>\n",
       "      <td>...</td>\n",
       "      <td>...</td>\n",
       "      <td>...</td>\n",
       "      <td>...</td>\n",
       "      <td>...</td>\n",
       "      <td>...</td>\n",
       "      <td>...</td>\n",
       "      <td>...</td>\n",
       "      <td>...</td>\n",
       "      <td>...</td>\n",
       "      <td>...</td>\n",
       "      <td>...</td>\n",
       "      <td>...</td>\n",
       "      <td>...</td>\n",
       "    </tr>\n",
       "    <tr>\n",
       "      <th>41995</th>\n",
       "      <td>0</td>\n",
       "      <td>0</td>\n",
       "      <td>0</td>\n",
       "      <td>0</td>\n",
       "      <td>0</td>\n",
       "      <td>0</td>\n",
       "      <td>0</td>\n",
       "      <td>0</td>\n",
       "      <td>0</td>\n",
       "      <td>0</td>\n",
       "      <td>...</td>\n",
       "      <td>0</td>\n",
       "      <td>0</td>\n",
       "      <td>0</td>\n",
       "      <td>0</td>\n",
       "      <td>0</td>\n",
       "      <td>0</td>\n",
       "      <td>0</td>\n",
       "      <td>0</td>\n",
       "      <td>0</td>\n",
       "      <td>0</td>\n",
       "    </tr>\n",
       "    <tr>\n",
       "      <th>41996</th>\n",
       "      <td>1</td>\n",
       "      <td>0</td>\n",
       "      <td>0</td>\n",
       "      <td>0</td>\n",
       "      <td>0</td>\n",
       "      <td>0</td>\n",
       "      <td>0</td>\n",
       "      <td>0</td>\n",
       "      <td>0</td>\n",
       "      <td>0</td>\n",
       "      <td>...</td>\n",
       "      <td>0</td>\n",
       "      <td>0</td>\n",
       "      <td>0</td>\n",
       "      <td>0</td>\n",
       "      <td>0</td>\n",
       "      <td>0</td>\n",
       "      <td>0</td>\n",
       "      <td>0</td>\n",
       "      <td>0</td>\n",
       "      <td>0</td>\n",
       "    </tr>\n",
       "    <tr>\n",
       "      <th>41997</th>\n",
       "      <td>7</td>\n",
       "      <td>0</td>\n",
       "      <td>0</td>\n",
       "      <td>0</td>\n",
       "      <td>0</td>\n",
       "      <td>0</td>\n",
       "      <td>0</td>\n",
       "      <td>0</td>\n",
       "      <td>0</td>\n",
       "      <td>0</td>\n",
       "      <td>...</td>\n",
       "      <td>0</td>\n",
       "      <td>0</td>\n",
       "      <td>0</td>\n",
       "      <td>0</td>\n",
       "      <td>0</td>\n",
       "      <td>0</td>\n",
       "      <td>0</td>\n",
       "      <td>0</td>\n",
       "      <td>0</td>\n",
       "      <td>0</td>\n",
       "    </tr>\n",
       "    <tr>\n",
       "      <th>41998</th>\n",
       "      <td>6</td>\n",
       "      <td>0</td>\n",
       "      <td>0</td>\n",
       "      <td>0</td>\n",
       "      <td>0</td>\n",
       "      <td>0</td>\n",
       "      <td>0</td>\n",
       "      <td>0</td>\n",
       "      <td>0</td>\n",
       "      <td>0</td>\n",
       "      <td>...</td>\n",
       "      <td>0</td>\n",
       "      <td>0</td>\n",
       "      <td>0</td>\n",
       "      <td>0</td>\n",
       "      <td>0</td>\n",
       "      <td>0</td>\n",
       "      <td>0</td>\n",
       "      <td>0</td>\n",
       "      <td>0</td>\n",
       "      <td>0</td>\n",
       "    </tr>\n",
       "    <tr>\n",
       "      <th>41999</th>\n",
       "      <td>9</td>\n",
       "      <td>0</td>\n",
       "      <td>0</td>\n",
       "      <td>0</td>\n",
       "      <td>0</td>\n",
       "      <td>0</td>\n",
       "      <td>0</td>\n",
       "      <td>0</td>\n",
       "      <td>0</td>\n",
       "      <td>0</td>\n",
       "      <td>...</td>\n",
       "      <td>0</td>\n",
       "      <td>0</td>\n",
       "      <td>0</td>\n",
       "      <td>0</td>\n",
       "      <td>0</td>\n",
       "      <td>0</td>\n",
       "      <td>0</td>\n",
       "      <td>0</td>\n",
       "      <td>0</td>\n",
       "      <td>0</td>\n",
       "    </tr>\n",
       "  </tbody>\n",
       "</table>\n",
       "<p>42000 rows × 785 columns</p>\n",
       "</div>"
      ],
      "text/plain": [
       "       label  pixel0  pixel1  pixel2  pixel3  pixel4  pixel5  pixel6  pixel7  \\\n",
       "0          1       0       0       0       0       0       0       0       0   \n",
       "1          0       0       0       0       0       0       0       0       0   \n",
       "2          1       0       0       0       0       0       0       0       0   \n",
       "3          4       0       0       0       0       0       0       0       0   \n",
       "4          0       0       0       0       0       0       0       0       0   \n",
       "...      ...     ...     ...     ...     ...     ...     ...     ...     ...   \n",
       "41995      0       0       0       0       0       0       0       0       0   \n",
       "41996      1       0       0       0       0       0       0       0       0   \n",
       "41997      7       0       0       0       0       0       0       0       0   \n",
       "41998      6       0       0       0       0       0       0       0       0   \n",
       "41999      9       0       0       0       0       0       0       0       0   \n",
       "\n",
       "       pixel8  ...  pixel774  pixel775  pixel776  pixel777  pixel778  \\\n",
       "0           0  ...         0         0         0         0         0   \n",
       "1           0  ...         0         0         0         0         0   \n",
       "2           0  ...         0         0         0         0         0   \n",
       "3           0  ...         0         0         0         0         0   \n",
       "4           0  ...         0         0         0         0         0   \n",
       "...       ...  ...       ...       ...       ...       ...       ...   \n",
       "41995       0  ...         0         0         0         0         0   \n",
       "41996       0  ...         0         0         0         0         0   \n",
       "41997       0  ...         0         0         0         0         0   \n",
       "41998       0  ...         0         0         0         0         0   \n",
       "41999       0  ...         0         0         0         0         0   \n",
       "\n",
       "       pixel779  pixel780  pixel781  pixel782  pixel783  \n",
       "0             0         0         0         0         0  \n",
       "1             0         0         0         0         0  \n",
       "2             0         0         0         0         0  \n",
       "3             0         0         0         0         0  \n",
       "4             0         0         0         0         0  \n",
       "...         ...       ...       ...       ...       ...  \n",
       "41995         0         0         0         0         0  \n",
       "41996         0         0         0         0         0  \n",
       "41997         0         0         0         0         0  \n",
       "41998         0         0         0         0         0  \n",
       "41999         0         0         0         0         0  \n",
       "\n",
       "[42000 rows x 785 columns]"
      ]
     },
     "execution_count": 3,
     "metadata": {},
     "output_type": "execute_result"
    }
   ],
   "source": [
    "df"
   ]
  },
  {
   "cell_type": "code",
   "execution_count": 4,
   "id": "173eb28e",
   "metadata": {},
   "outputs": [
    {
     "data": {
      "image/png": "[encoded data removed]",
      "text/plain": [
       "<Figure size 640x480 with 1 Axes>"
      ]
     },
     "metadata": {},
     "output_type": "display_data"
    }
   ],
   "source": [
    "ax=df['label'].value_counts().plot(kind='bar')\n",
    "for bars in ax.containers:\n",
    "    ax.bar_label(bars)"
   ]
  },
  {
   "cell_type": "code",
   "execution_count": 5,
   "id": "d023c34b",
   "metadata": {},
   "outputs": [
    {
     "name": "stdout",
     "output_type": "stream",
     "text": [
      "WARNING:tensorflow:From C:\\Users\\ASUS\\AppData\\Roaming\\Python\\Python310\\site-packages\\keras\\src\\losses.py:2976: The name tf.losses.sparse_softmax_cross_entropy is deprecated. Please use tf.compat.v1.losses.sparse_softmax_cross_entropy instead.\n",
      "\n"
     ]
    }
   ],
   "source": [
    "import tensorflow"
   ]
  },
  {
   "cell_type": "code",
   "execution_count": 6,
   "id": "ea8a1b92",
   "metadata": {},
   "outputs": [],
   "source": [
    "import tensorflow.keras"
   ]
  },
  {
   "cell_type": "code",
   "execution_count": 7,
   "id": "b764a690",
   "metadata": {},
   "outputs": [],
   "source": [
    "from tensorflow.keras import Sequential"
   ]
  },
  {
   "cell_type": "code",
   "execution_count": 8,
   "id": "5d56ba84",
   "metadata": {},
   "outputs": [],
   "source": [
    "from tensorflow.keras.layers import Dense,Flatten"
   ]
  },
  {
   "cell_type": "code",
   "execution_count": 9,
   "id": "aa23860b",
   "metadata": {},
   "outputs": [
    {
     "data": {
      "text/plain": [
       "(42000, 785)"
      ]
     },
     "execution_count": 9,
     "metadata": {},
     "output_type": "execute_result"
    }
   ],
   "source": [
    "df.shape"
   ]
  },
  {
   "cell_type": "code",
   "execution_count": 10,
   "id": "10574282",
   "metadata": {},
   "outputs": [],
   "source": [
    "X=df.drop(columns='label')"
   ]
  },
  {
   "cell_type": "code",
   "execution_count": 11,
   "id": "67766936",
   "metadata": {},
   "outputs": [],
   "source": [
    "y=df['label']"
   ]
  },
  {
   "cell_type": "code",
   "execution_count": 12,
   "id": "033ccd90",
   "metadata": {},
   "outputs": [],
   "source": [
    "X=X/255"
   ]
  },
  {
   "cell_type": "code",
   "execution_count": 13,
   "id": "29533a2c",
   "metadata": {},
   "outputs": [
    {
     "name": "stdout",
     "output_type": "stream",
     "text": [
      "WARNING:tensorflow:From C:\\Users\\ASUS\\AppData\\Roaming\\Python\\Python310\\site-packages\\keras\\src\\backend.py:873: The name tf.get_default_graph is deprecated. Please use tf.compat.v1.get_default_graph instead.\n",
      "\n"
     ]
    }
   ],
   "source": [
    "model=Sequential()"
   ]
  },
  {
   "cell_type": "code",
   "execution_count": 14,
   "id": "d089cd34",
   "metadata": {},
   "outputs": [],
   "source": [
    "X=np.array(X)"
   ]
  },
  {
   "cell_type": "code",
   "execution_count": 15,
   "id": "0a1314a9",
   "metadata": {},
   "outputs": [
    {
     "data": {
      "text/plain": [
       "array([[0., 0., 0., ..., 0., 0., 0.],\n",
       "       [0., 0., 0., ..., 0., 0., 0.],\n",
       "       [0., 0., 0., ..., 0., 0., 0.],\n",
       "       ...,\n",
       "       [0., 0., 0., ..., 0., 0., 0.],\n",
       "       [0., 0., 0., ..., 0., 0., 0.],\n",
       "       [0., 0., 0., ..., 0., 0., 0.]])"
      ]
     },
     "execution_count": 15,
     "metadata": {},
     "output_type": "execute_result"
    }
   ],
   "source": [
    "X"
   ]
  },
  {
   "cell_type": "code",
   "execution_count": 16,
   "id": "0c29ce7e",
   "metadata": {},
   "outputs": [
    {
     "data": {
      "text/plain": [
       "(784,)"
      ]
     },
     "execution_count": 16,
     "metadata": {},
     "output_type": "execute_result"
    }
   ],
   "source": [
    "X[1].shape"
   ]
  },
  {
   "cell_type": "code",
   "execution_count": 17,
   "id": "8593060a",
   "metadata": {},
   "outputs": [],
   "source": [
    "model.add(Dense(128,activation='relu',input_dim=784))\n",
    "model.add(Dense(10,activation='softmax'))"
   ]
  },
  {
   "cell_type": "code",
   "execution_count": 18,
   "id": "834a78e3",
   "metadata": {},
   "outputs": [
    {
     "name": "stdout",
     "output_type": "stream",
     "text": [
      "Model: \"sequential\"\n",
      "_________________________________________________________________\n",
      " Layer (type)                Output Shape              Param #   \n",
      "=================================================================\n",
      " dense (Dense)               (None, 128)               100480    \n",
      "                                                                 \n",
      " dense_1 (Dense)             (None, 10)                1290      \n",
      "                                                                 \n",
      "=================================================================\n",
      "Total params: 101770 (397.54 KB)\n",
      "Trainable params: 101770 (397.54 KB)\n",
      "Non-trainable params: 0 (0.00 Byte)\n",
      "_________________________________________________________________\n"
     ]
    }
   ],
   "source": [
    "model.summary()"
   ]
  },
  {
   "cell_type": "code",
   "execution_count": 19,
   "id": "c2d5804c",
   "metadata": {},
   "outputs": [
    {
     "name": "stdout",
     "output_type": "stream",
     "text": [
      "WARNING:tensorflow:From C:\\Users\\ASUS\\AppData\\Roaming\\Python\\Python310\\site-packages\\keras\\src\\optimizers\\__init__.py:309: The name tf.train.Optimizer is deprecated. Please use tf.compat.v1.train.Optimizer instead.\n",
      "\n"
     ]
    }
   ],
   "source": [
    "model.compile(loss='sparse_categorical_crossentropy',optimizer='Adam',metrics=['accuracy'])"
   ]
  },
  {
   "cell_type": "code",
   "execution_count": 20,
   "id": "2edfcc37",
   "metadata": {},
   "outputs": [
    {
     "name": "stdout",
     "output_type": "stream",
     "text": [
      "Epoch 1/100\n",
      "WARNING:tensorflow:From C:\\Users\\ASUS\\AppData\\Roaming\\Python\\Python310\\site-packages\\keras\\src\\utils\\tf_utils.py:492: The name tf.ragged.RaggedTensorValue is deprecated. Please use tf.compat.v1.ragged.RaggedTensorValue instead.\n",
      "\n",
      "WARNING:tensorflow:From C:\\Users\\ASUS\\AppData\\Roaming\\Python\\Python310\\site-packages\\keras\\src\\engine\\base_layer_utils.py:384: The name tf.executing_eagerly_outside_functions is deprecated. Please use tf.compat.v1.executing_eagerly_outside_functions instead.\n",
      "\n",
      "1050/1050 [==============================] - 3s 2ms/step - loss: 0.3268 - accuracy: 0.9061 - val_loss: 0.1791 - val_accuracy: 0.9496\n",
      "Epoch 2/100\n",
      "1050/1050 [==============================] - 3s 2ms/step - loss: 0.1487 - accuracy: 0.9560 - val_loss: 0.1368 - val_accuracy: 0.9590\n",
      "Epoch 3/100\n",
      "1050/1050 [==============================] - 3s 3ms/step - loss: 0.1018 - accuracy: 0.9702 - val_loss: 0.1094 - val_accuracy: 0.9664\n",
      "Epoch 4/100\n",
      "1050/1050 [==============================] - 3s 3ms/step - loss: 0.0760 - accuracy: 0.9773 - val_loss: 0.0974 - val_accuracy: 0.9704\n",
      "Epoch 5/100\n",
      "1050/1050 [==============================] - 2s 2ms/step - loss: 0.0575 - accuracy: 0.9819 - val_loss: 0.0965 - val_accuracy: 0.9696\n",
      "Epoch 6/100\n",
      "1050/1050 [==============================] - 3s 3ms/step - loss: 0.0450 - accuracy: 0.9866 - val_loss: 0.1058 - val_accuracy: 0.9671\n",
      "Epoch 7/100\n",
      "1050/1050 [==============================] - 3s 3ms/step - loss: 0.0368 - accuracy: 0.9888 - val_loss: 0.0933 - val_accuracy: 0.9717\n",
      "Epoch 8/100\n",
      "1050/1050 [==============================] - 3s 3ms/step - loss: 0.0271 - accuracy: 0.9924 - val_loss: 0.0954 - val_accuracy: 0.9714\n",
      "Epoch 9/100\n",
      "1050/1050 [==============================] - 3s 3ms/step - loss: 0.0217 - accuracy: 0.9938 - val_loss: 0.0980 - val_accuracy: 0.9733\n",
      "Epoch 10/100\n",
      "1050/1050 [==============================] - 3s 3ms/step - loss: 0.0184 - accuracy: 0.9949 - val_loss: 0.0932 - val_accuracy: 0.9730\n",
      "Epoch 11/100\n",
      "1050/1050 [==============================] - 3s 3ms/step - loss: 0.0130 - accuracy: 0.9970 - val_loss: 0.1111 - val_accuracy: 0.9708\n",
      "Epoch 12/100\n",
      "1050/1050 [==============================] - 3s 3ms/step - loss: 0.0127 - accuracy: 0.9967 - val_loss: 0.1060 - val_accuracy: 0.9727\n",
      "Epoch 13/100\n",
      "1050/1050 [==============================] - 2s 2ms/step - loss: 0.0112 - accuracy: 0.9967 - val_loss: 0.1092 - val_accuracy: 0.9714\n",
      "Epoch 14/100\n",
      "1050/1050 [==============================] - 2s 2ms/step - loss: 0.0077 - accuracy: 0.9982 - val_loss: 0.1094 - val_accuracy: 0.9738\n",
      "Epoch 15/100\n",
      "1050/1050 [==============================] - 3s 2ms/step - loss: 0.0101 - accuracy: 0.9970 - val_loss: 0.1039 - val_accuracy: 0.9740\n",
      "Epoch 16/100\n",
      "1050/1050 [==============================] - 3s 2ms/step - loss: 0.0051 - accuracy: 0.9987 - val_loss: 0.1155 - val_accuracy: 0.9715\n",
      "Epoch 17/100\n",
      "1050/1050 [==============================] - 3s 3ms/step - loss: 0.0064 - accuracy: 0.9983 - val_loss: 0.1314 - val_accuracy: 0.9701\n",
      "Epoch 18/100\n",
      "1050/1050 [==============================] - 3s 2ms/step - loss: 0.0062 - accuracy: 0.9986 - val_loss: 0.1339 - val_accuracy: 0.9690\n",
      "Epoch 19/100\n",
      "1050/1050 [==============================] - 2s 2ms/step - loss: 0.0066 - accuracy: 0.9982 - val_loss: 0.1364 - val_accuracy: 0.9713\n",
      "Epoch 20/100\n",
      "1050/1050 [==============================] - 3s 2ms/step - loss: 0.0043 - accuracy: 0.9990 - val_loss: 0.1164 - val_accuracy: 0.9758\n",
      "Epoch 21/100\n",
      "1050/1050 [==============================] - 2s 2ms/step - loss: 0.0087 - accuracy: 0.9973 - val_loss: 0.1339 - val_accuracy: 0.9729\n",
      "Epoch 22/100\n",
      "1050/1050 [==============================] - 2s 2ms/step - loss: 0.0026 - accuracy: 0.9995 - val_loss: 0.1138 - val_accuracy: 0.9757\n",
      "Epoch 23/100\n",
      "1050/1050 [==============================] - 3s 3ms/step - loss: 6.0518e-04 - accuracy: 1.0000 - val_loss: 0.1135 - val_accuracy: 0.9771\n",
      "Epoch 24/100\n",
      "1050/1050 [==============================] - 3s 2ms/step - loss: 3.1421e-04 - accuracy: 1.0000 - val_loss: 0.1181 - val_accuracy: 0.9761\n",
      "Epoch 25/100\n",
      "1050/1050 [==============================] - 2s 2ms/step - loss: 0.0065 - accuracy: 0.9978 - val_loss: 0.1685 - val_accuracy: 0.9670\n",
      "Epoch 26/100\n",
      "1050/1050 [==============================] - 3s 2ms/step - loss: 0.0063 - accuracy: 0.9983 - val_loss: 0.1421 - val_accuracy: 0.9737\n",
      "Epoch 27/100\n",
      "1050/1050 [==============================] - 3s 2ms/step - loss: 0.0026 - accuracy: 0.9993 - val_loss: 0.1362 - val_accuracy: 0.9739\n",
      "Epoch 28/100\n",
      "1050/1050 [==============================] - 2s 2ms/step - loss: 0.0043 - accuracy: 0.9990 - val_loss: 0.1326 - val_accuracy: 0.9756\n",
      "Epoch 29/100\n",
      "1050/1050 [==============================] - 3s 3ms/step - loss: 0.0047 - accuracy: 0.9985 - val_loss: 0.1374 - val_accuracy: 0.9745\n",
      "Epoch 30/100\n",
      "1050/1050 [==============================] - 3s 2ms/step - loss: 0.0042 - accuracy: 0.9987 - val_loss: 0.1500 - val_accuracy: 0.9730\n",
      "Epoch 31/100\n",
      "1050/1050 [==============================] - 2s 2ms/step - loss: 0.0018 - accuracy: 0.9995 - val_loss: 0.1293 - val_accuracy: 0.9770\n",
      "Epoch 32/100\n",
      "1050/1050 [==============================] - 3s 2ms/step - loss: 0.0020 - accuracy: 0.9995 - val_loss: 0.1576 - val_accuracy: 0.9721\n",
      "Epoch 33/100\n",
      "1050/1050 [==============================] - 3s 2ms/step - loss: 0.0066 - accuracy: 0.9980 - val_loss: 0.1427 - val_accuracy: 0.9746\n",
      "Epoch 34/100\n",
      "1050/1050 [==============================] - 3s 2ms/step - loss: 0.0016 - accuracy: 0.9997 - val_loss: 0.1495 - val_accuracy: 0.9744\n",
      "Epoch 35/100\n",
      "1050/1050 [==============================] - 2s 2ms/step - loss: 3.1420e-04 - accuracy: 1.0000 - val_loss: 0.1392 - val_accuracy: 0.9782\n",
      "Epoch 36/100\n",
      "1050/1050 [==============================] - 2s 2ms/step - loss: 1.0652e-04 - accuracy: 1.0000 - val_loss: 0.1356 - val_accuracy: 0.9781\n",
      "Epoch 37/100\n",
      "1050/1050 [==============================] - 3s 2ms/step - loss: 6.2906e-05 - accuracy: 1.0000 - val_loss: 0.1382 - val_accuracy: 0.9773\n",
      "Epoch 38/100\n",
      "1050/1050 [==============================] - 3s 2ms/step - loss: 4.9495e-05 - accuracy: 1.0000 - val_loss: 0.1413 - val_accuracy: 0.9775\n",
      "Epoch 39/100\n",
      "1050/1050 [==============================] - 3s 3ms/step - loss: 4.0759e-05 - accuracy: 1.0000 - val_loss: 0.1406 - val_accuracy: 0.9779\n",
      "Epoch 40/100\n",
      "1050/1050 [==============================] - 2s 2ms/step - loss: 0.0141 - accuracy: 0.9957 - val_loss: 0.1635 - val_accuracy: 0.9745\n",
      "Epoch 41/100\n",
      "1050/1050 [==============================] - 3s 2ms/step - loss: 0.0019 - accuracy: 0.9993 - val_loss: 0.1518 - val_accuracy: 0.9760\n",
      "Epoch 42/100\n",
      "1050/1050 [==============================] - 3s 3ms/step - loss: 6.2352e-04 - accuracy: 0.9999 - val_loss: 0.1385 - val_accuracy: 0.9771\n",
      "Epoch 43/100\n",
      "1050/1050 [==============================] - 3s 3ms/step - loss: 1.6156e-04 - accuracy: 1.0000 - val_loss: 0.1410 - val_accuracy: 0.9780\n",
      "Epoch 44/100\n",
      "1050/1050 [==============================] - 3s 3ms/step - loss: 6.3123e-05 - accuracy: 1.0000 - val_loss: 0.1393 - val_accuracy: 0.9779\n",
      "Epoch 45/100\n",
      "1050/1050 [==============================] - 2s 2ms/step - loss: 4.3407e-05 - accuracy: 1.0000 - val_loss: 0.1408 - val_accuracy: 0.9789\n",
      "Epoch 46/100\n",
      "1050/1050 [==============================] - 2s 2ms/step - loss: 3.4444e-05 - accuracy: 1.0000 - val_loss: 0.1403 - val_accuracy: 0.9787\n",
      "Epoch 47/100\n",
      "1050/1050 [==============================] - 3s 3ms/step - loss: 0.0050 - accuracy: 0.9986 - val_loss: 0.1999 - val_accuracy: 0.9682\n",
      "Epoch 48/100\n",
      "1050/1050 [==============================] - 3s 3ms/step - loss: 0.0086 - accuracy: 0.9972 - val_loss: 0.1810 - val_accuracy: 0.9719\n",
      "Epoch 49/100\n",
      "1050/1050 [==============================] - 2s 2ms/step - loss: 0.0022 - accuracy: 0.9992 - val_loss: 0.1484 - val_accuracy: 0.9758\n",
      "Epoch 50/100\n",
      "1050/1050 [==============================] - 3s 3ms/step - loss: 0.0010 - accuracy: 0.9996 - val_loss: 0.1511 - val_accuracy: 0.9768\n",
      "Epoch 51/100\n",
      "1050/1050 [==============================] - 3s 3ms/step - loss: 1.7086e-04 - accuracy: 1.0000 - val_loss: 0.1458 - val_accuracy: 0.9783\n",
      "Epoch 52/100\n",
      "1050/1050 [==============================] - 3s 3ms/step - loss: 4.2863e-05 - accuracy: 1.0000 - val_loss: 0.1461 - val_accuracy: 0.9776\n",
      "Epoch 53/100\n",
      "1050/1050 [==============================] - 2s 2ms/step - loss: 3.1011e-05 - accuracy: 1.0000 - val_loss: 0.1462 - val_accuracy: 0.9782\n",
      "Epoch 54/100\n",
      "1050/1050 [==============================] - 3s 2ms/step - loss: 2.3270e-05 - accuracy: 1.0000 - val_loss: 0.1477 - val_accuracy: 0.9775\n",
      "Epoch 55/100\n",
      "1050/1050 [==============================] - 2s 2ms/step - loss: 1.9008e-05 - accuracy: 1.0000 - val_loss: 0.1485 - val_accuracy: 0.9777\n",
      "Epoch 56/100\n",
      "1050/1050 [==============================] - 2s 2ms/step - loss: 1.4919e-05 - accuracy: 1.0000 - val_loss: 0.1507 - val_accuracy: 0.9776\n",
      "Epoch 57/100\n",
      "1050/1050 [==============================] - 3s 2ms/step - loss: 1.1425e-05 - accuracy: 1.0000 - val_loss: 0.1530 - val_accuracy: 0.9782\n",
      "Epoch 58/100\n",
      "1050/1050 [==============================] - 3s 2ms/step - loss: 0.0132 - accuracy: 0.9963 - val_loss: 0.1769 - val_accuracy: 0.9751\n",
      "Epoch 59/100\n",
      "1050/1050 [==============================] - 3s 2ms/step - loss: 7.7280e-04 - accuracy: 0.9998 - val_loss: 0.1667 - val_accuracy: 0.9763\n",
      "Epoch 60/100\n",
      "1050/1050 [==============================] - 3s 3ms/step - loss: 1.5774e-04 - accuracy: 1.0000 - val_loss: 0.1633 - val_accuracy: 0.9768\n",
      "Epoch 61/100\n",
      "1050/1050 [==============================] - 2s 2ms/step - loss: 4.0810e-05 - accuracy: 1.0000 - val_loss: 0.1637 - val_accuracy: 0.9769\n",
      "Epoch 62/100\n",
      "1050/1050 [==============================] - 2s 2ms/step - loss: 2.9014e-05 - accuracy: 1.0000 - val_loss: 0.1615 - val_accuracy: 0.9773\n",
      "Epoch 63/100\n",
      "1050/1050 [==============================] - 2s 2ms/step - loss: 2.1341e-05 - accuracy: 1.0000 - val_loss: 0.1637 - val_accuracy: 0.9775\n",
      "Epoch 64/100\n",
      "1050/1050 [==============================] - 2s 2ms/step - loss: 1.6136e-05 - accuracy: 1.0000 - val_loss: 0.1641 - val_accuracy: 0.9773\n",
      "Epoch 65/100\n",
      "1050/1050 [==============================] - 2s 2ms/step - loss: 1.2435e-05 - accuracy: 1.0000 - val_loss: 0.1640 - val_accuracy: 0.9776\n",
      "Epoch 66/100\n",
      "1050/1050 [==============================] - 2s 2ms/step - loss: 9.8994e-06 - accuracy: 1.0000 - val_loss: 0.1646 - val_accuracy: 0.9785\n",
      "Epoch 67/100\n",
      "1050/1050 [==============================] - 2s 2ms/step - loss: 1.0211e-05 - accuracy: 1.0000 - val_loss: 0.1849 - val_accuracy: 0.9775\n",
      "Epoch 68/100\n",
      "1050/1050 [==============================] - 2s 2ms/step - loss: 0.0124 - accuracy: 0.9965 - val_loss: 0.1869 - val_accuracy: 0.9739\n",
      "Epoch 69/100\n",
      "1050/1050 [==============================] - 2s 2ms/step - loss: 3.5216e-04 - accuracy: 0.9999 - val_loss: 0.1848 - val_accuracy: 0.9745\n",
      "Epoch 70/100\n",
      "1050/1050 [==============================] - 2s 2ms/step - loss: 6.7683e-05 - accuracy: 1.0000 - val_loss: 0.1710 - val_accuracy: 0.9767\n",
      "Epoch 71/100\n",
      "1050/1050 [==============================] - 2s 2ms/step - loss: 2.4217e-05 - accuracy: 1.0000 - val_loss: 0.1707 - val_accuracy: 0.9764\n",
      "Epoch 72/100\n",
      "1050/1050 [==============================] - 2s 2ms/step - loss: 1.8215e-05 - accuracy: 1.0000 - val_loss: 0.1703 - val_accuracy: 0.9765\n",
      "Epoch 73/100\n",
      "1050/1050 [==============================] - 2s 2ms/step - loss: 1.3795e-05 - accuracy: 1.0000 - val_loss: 0.1702 - val_accuracy: 0.9769\n",
      "Epoch 74/100\n",
      "1050/1050 [==============================] - 2s 2ms/step - loss: 1.0478e-05 - accuracy: 1.0000 - val_loss: 0.1707 - val_accuracy: 0.9773\n",
      "Epoch 75/100\n",
      "1050/1050 [==============================] - 2s 2ms/step - loss: 7.9014e-06 - accuracy: 1.0000 - val_loss: 0.1716 - val_accuracy: 0.9771\n",
      "Epoch 76/100\n",
      "1050/1050 [==============================] - 2s 2ms/step - loss: 5.9575e-06 - accuracy: 1.0000 - val_loss: 0.1724 - val_accuracy: 0.9779\n",
      "Epoch 77/100\n",
      "1050/1050 [==============================] - 2s 2ms/step - loss: 4.4872e-06 - accuracy: 1.0000 - val_loss: 0.1751 - val_accuracy: 0.9776\n",
      "Epoch 78/100\n",
      "1050/1050 [==============================] - 3s 2ms/step - loss: 3.4839e-06 - accuracy: 1.0000 - val_loss: 0.1778 - val_accuracy: 0.9782\n",
      "Epoch 79/100\n",
      "1050/1050 [==============================] - 2s 2ms/step - loss: 2.8051e-06 - accuracy: 1.0000 - val_loss: 0.1816 - val_accuracy: 0.9777\n",
      "Epoch 80/100\n",
      "1050/1050 [==============================] - 2s 2ms/step - loss: 0.0134 - accuracy: 0.9963 - val_loss: 0.2001 - val_accuracy: 0.9745\n",
      "Epoch 81/100\n",
      "1050/1050 [==============================] - 2s 2ms/step - loss: 0.0020 - accuracy: 0.9994 - val_loss: 0.2037 - val_accuracy: 0.9743\n",
      "Epoch 82/100\n",
      "1050/1050 [==============================] - 2s 2ms/step - loss: 4.1870e-04 - accuracy: 0.9998 - val_loss: 0.1810 - val_accuracy: 0.9758\n",
      "Epoch 83/100\n",
      "1050/1050 [==============================] - 2s 2ms/step - loss: 0.0033 - accuracy: 0.9991 - val_loss: 0.1986 - val_accuracy: 0.9748\n",
      "Epoch 84/100\n",
      "1050/1050 [==============================] - 2s 2ms/step - loss: 0.0037 - accuracy: 0.9988 - val_loss: 0.1967 - val_accuracy: 0.9758\n",
      "Epoch 85/100\n",
      "1050/1050 [==============================] - 2s 2ms/step - loss: 0.0024 - accuracy: 0.9994 - val_loss: 0.1955 - val_accuracy: 0.9754\n",
      "Epoch 86/100\n",
      "1050/1050 [==============================] - 2s 2ms/step - loss: 0.0032 - accuracy: 0.9990 - val_loss: 0.1973 - val_accuracy: 0.9760\n",
      "Epoch 87/100\n",
      "1050/1050 [==============================] - 2s 2ms/step - loss: 0.0037 - accuracy: 0.9989 - val_loss: 0.2143 - val_accuracy: 0.9738\n",
      "Epoch 88/100\n",
      "1050/1050 [==============================] - 2s 2ms/step - loss: 8.0192e-04 - accuracy: 0.9998 - val_loss: 0.1981 - val_accuracy: 0.9764\n",
      "Epoch 89/100\n",
      "1050/1050 [==============================] - 2s 2ms/step - loss: 7.3594e-05 - accuracy: 1.0000 - val_loss: 0.2055 - val_accuracy: 0.9755\n",
      "Epoch 90/100\n",
      "1050/1050 [==============================] - 2s 2ms/step - loss: 3.8290e-05 - accuracy: 1.0000 - val_loss: 0.1970 - val_accuracy: 0.9769\n",
      "Epoch 91/100\n",
      "1050/1050 [==============================] - 2s 2ms/step - loss: 8.4934e-06 - accuracy: 1.0000 - val_loss: 0.1950 - val_accuracy: 0.9770\n",
      "Epoch 92/100\n",
      "1050/1050 [==============================] - 2s 2ms/step - loss: 6.1577e-06 - accuracy: 1.0000 - val_loss: 0.1949 - val_accuracy: 0.9769\n",
      "Epoch 93/100\n",
      "1050/1050 [==============================] - 2s 2ms/step - loss: 4.7031e-06 - accuracy: 1.0000 - val_loss: 0.1958 - val_accuracy: 0.9771\n",
      "Epoch 94/100\n",
      "1050/1050 [==============================] - 2s 2ms/step - loss: 3.6518e-06 - accuracy: 1.0000 - val_loss: 0.1956 - val_accuracy: 0.9776\n",
      "Epoch 95/100\n",
      "1050/1050 [==============================] - 2s 2ms/step - loss: 2.8618e-06 - accuracy: 1.0000 - val_loss: 0.1967 - val_accuracy: 0.9773\n",
      "Epoch 96/100\n",
      "1050/1050 [==============================] - 3s 2ms/step - loss: 2.0912e-06 - accuracy: 1.0000 - val_loss: 0.1977 - val_accuracy: 0.9776\n",
      "Epoch 97/100\n",
      "1050/1050 [==============================] - 2s 2ms/step - loss: 1.6193e-06 - accuracy: 1.0000 - val_loss: 0.1986 - val_accuracy: 0.9777\n",
      "Epoch 98/100\n",
      "1050/1050 [==============================] - 2s 2ms/step - loss: 1.2284e-06 - accuracy: 1.0000 - val_loss: 0.1985 - val_accuracy: 0.9777\n",
      "Epoch 99/100\n",
      "1050/1050 [==============================] - 2s 2ms/step - loss: 0.0090 - accuracy: 0.9978 - val_loss: 0.2093 - val_accuracy: 0.9745\n",
      "Epoch 100/100\n",
      "1050/1050 [==============================] - 2s 2ms/step - loss: 0.0028 - accuracy: 0.9991 - val_loss: 0.2144 - val_accuracy: 0.9742\n"
     ]
    }
   ],
   "source": [
    "history=model.fit(X,y,validation_split=0.2,epochs=100)"
   ]
  },
  {
   "cell_type": "code",
   "execution_count": 21,
   "id": "6c14ab12",
   "metadata": {},
   "outputs": [],
   "source": [
    "test_data=pd.read_csv(r\"G:\\datasets\\MNIST_test.csv\")"
   ]
  },
  {
   "cell_type": "code",
   "execution_count": 22,
   "id": "fa724eaa",
   "metadata": {},
   "outputs": [
    {
     "data": {
      "text/html": [
       "<div>\n",
       "<style scoped>\n",
       "    .dataframe tbody tr th:only-of-type {\n",
       "        vertical-align: middle;\n",
       "    }\n",
       "\n",
       "    .dataframe tbody tr th {\n",
       "        vertical-align: top;\n",
       "    }\n",
       "\n",
       "    .dataframe thead th {\n",
       "        text-align: right;\n",
       "    }\n",
       "</style>\n",
       "<table border=\"1\" class=\"dataframe\">\n",
       "  <thead>\n",
       "    <tr style=\"text-align: right;\">\n",
       "      <th></th>\n",
       "      <th>pixel0</th>\n",
       "      <th>pixel1</th>\n",
       "      <th>pixel2</th>\n",
       "      <th>pixel3</th>\n",
       "      <th>pixel4</th>\n",
       "      <th>pixel5</th>\n",
       "      <th>pixel6</th>\n",
       "      <th>pixel7</th>\n",
       "      <th>pixel8</th>\n",
       "      <th>pixel9</th>\n",
       "      <th>...</th>\n",
       "      <th>pixel774</th>\n",
       "      <th>pixel775</th>\n",
       "      <th>pixel776</th>\n",
       "      <th>pixel777</th>\n",
       "      <th>pixel778</th>\n",
       "      <th>pixel779</th>\n",
       "      <th>pixel780</th>\n",
       "      <th>pixel781</th>\n",
       "      <th>pixel782</th>\n",
       "      <th>pixel783</th>\n",
       "    </tr>\n",
       "  </thead>\n",
       "  <tbody>\n",
       "    <tr>\n",
       "      <th>0</th>\n",
       "      <td>0</td>\n",
       "      <td>0</td>\n",
       "      <td>0</td>\n",
       "      <td>0</td>\n",
       "      <td>0</td>\n",
       "      <td>0</td>\n",
       "      <td>0</td>\n",
       "      <td>0</td>\n",
       "      <td>0</td>\n",
       "      <td>0</td>\n",
       "      <td>...</td>\n",
       "      <td>0</td>\n",
       "      <td>0</td>\n",
       "      <td>0</td>\n",
       "      <td>0</td>\n",
       "      <td>0</td>\n",
       "      <td>0</td>\n",
       "      <td>0</td>\n",
       "      <td>0</td>\n",
       "      <td>0</td>\n",
       "      <td>0</td>\n",
       "    </tr>\n",
       "    <tr>\n",
       "      <th>1</th>\n",
       "      <td>0</td>\n",
       "      <td>0</td>\n",
       "      <td>0</td>\n",
       "      <td>0</td>\n",
       "      <td>0</td>\n",
       "      <td>0</td>\n",
       "      <td>0</td>\n",
       "      <td>0</td>\n",
       "      <td>0</td>\n",
       "      <td>0</td>\n",
       "      <td>...</td>\n",
       "      <td>0</td>\n",
       "      <td>0</td>\n",
       "      <td>0</td>\n",
       "      <td>0</td>\n",
       "      <td>0</td>\n",
       "      <td>0</td>\n",
       "      <td>0</td>\n",
       "      <td>0</td>\n",
       "      <td>0</td>\n",
       "      <td>0</td>\n",
       "    </tr>\n",
       "    <tr>\n",
       "      <th>2</th>\n",
       "      <td>0</td>\n",
       "      <td>0</td>\n",
       "      <td>0</td>\n",
       "      <td>0</td>\n",
       "      <td>0</td>\n",
       "      <td>0</td>\n",
       "      <td>0</td>\n",
       "      <td>0</td>\n",
       "      <td>0</td>\n",
       "      <td>0</td>\n",
       "      <td>...</td>\n",
       "      <td>0</td>\n",
       "      <td>0</td>\n",
       "      <td>0</td>\n",
       "      <td>0</td>\n",
       "      <td>0</td>\n",
       "      <td>0</td>\n",
       "      <td>0</td>\n",
       "      <td>0</td>\n",
       "      <td>0</td>\n",
       "      <td>0</td>\n",
       "    </tr>\n",
       "    <tr>\n",
       "      <th>3</th>\n",
       "      <td>0</td>\n",
       "      <td>0</td>\n",
       "      <td>0</td>\n",
       "      <td>0</td>\n",
       "      <td>0</td>\n",
       "      <td>0</td>\n",
       "      <td>0</td>\n",
       "      <td>0</td>\n",
       "      <td>0</td>\n",
       "      <td>0</td>\n",
       "      <td>...</td>\n",
       "      <td>0</td>\n",
       "      <td>0</td>\n",
       "      <td>0</td>\n",
       "      <td>0</td>\n",
       "      <td>0</td>\n",
       "      <td>0</td>\n",
       "      <td>0</td>\n",
       "      <td>0</td>\n",
       "      <td>0</td>\n",
       "      <td>0</td>\n",
       "    </tr>\n",
       "    <tr>\n",
       "      <th>4</th>\n",
       "      <td>0</td>\n",
       "      <td>0</td>\n",
       "      <td>0</td>\n",
       "      <td>0</td>\n",
       "      <td>0</td>\n",
       "      <td>0</td>\n",
       "      <td>0</td>\n",
       "      <td>0</td>\n",
       "      <td>0</td>\n",
       "      <td>0</td>\n",
       "      <td>...</td>\n",
       "      <td>0</td>\n",
       "      <td>0</td>\n",
       "      <td>0</td>\n",
       "      <td>0</td>\n",
       "      <td>0</td>\n",
       "      <td>0</td>\n",
       "      <td>0</td>\n",
       "      <td>0</td>\n",
       "      <td>0</td>\n",
       "      <td>0</td>\n",
       "    </tr>\n",
       "    <tr>\n",
       "      <th>...</th>\n",
       "      <td>...</td>\n",
       "      <td>...</td>\n",
       "      <td>...</td>\n",
       "      <td>...</td>\n",
       "      <td>...</td>\n",
       "      <td>...</td>\n",
       "      <td>...</td>\n",
       "      <td>...</td>\n",
       "      <td>...</td>\n",
       "      <td>...</td>\n",
       "      <td>...</td>\n",
       "      <td>...</td>\n",
       "      <td>...</td>\n",
       "      <td>...</td>\n",
       "      <td>...</td>\n",
       "      <td>...</td>\n",
       "      <td>...</td>\n",
       "      <td>...</td>\n",
       "      <td>...</td>\n",
       "      <td>...</td>\n",
       "      <td>...</td>\n",
       "    </tr>\n",
       "    <tr>\n",
       "      <th>27995</th>\n",
       "      <td>0</td>\n",
       "      <td>0</td>\n",
       "      <td>0</td>\n",
       "      <td>0</td>\n",
       "      <td>0</td>\n",
       "      <td>0</td>\n",
       "      <td>0</td>\n",
       "      <td>0</td>\n",
       "      <td>0</td>\n",
       "      <td>0</td>\n",
       "      <td>...</td>\n",
       "      <td>0</td>\n",
       "      <td>0</td>\n",
       "      <td>0</td>\n",
       "      <td>0</td>\n",
       "      <td>0</td>\n",
       "      <td>0</td>\n",
       "      <td>0</td>\n",
       "      <td>0</td>\n",
       "      <td>0</td>\n",
       "      <td>0</td>\n",
       "    </tr>\n",
       "    <tr>\n",
       "      <th>27996</th>\n",
       "      <td>0</td>\n",
       "      <td>0</td>\n",
       "      <td>0</td>\n",
       "      <td>0</td>\n",
       "      <td>0</td>\n",
       "      <td>0</td>\n",
       "      <td>0</td>\n",
       "      <td>0</td>\n",
       "      <td>0</td>\n",
       "      <td>0</td>\n",
       "      <td>...</td>\n",
       "      <td>0</td>\n",
       "      <td>0</td>\n",
       "      <td>0</td>\n",
       "      <td>0</td>\n",
       "      <td>0</td>\n",
       "      <td>0</td>\n",
       "      <td>0</td>\n",
       "      <td>0</td>\n",
       "      <td>0</td>\n",
       "      <td>0</td>\n",
       "    </tr>\n",
       "    <tr>\n",
       "      <th>27997</th>\n",
       "      <td>0</td>\n",
       "      <td>0</td>\n",
       "      <td>0</td>\n",
       "      <td>0</td>\n",
       "      <td>0</td>\n",
       "      <td>0</td>\n",
       "      <td>0</td>\n",
       "      <td>0</td>\n",
       "      <td>0</td>\n",
       "      <td>0</td>\n",
       "      <td>...</td>\n",
       "      <td>0</td>\n",
       "      <td>0</td>\n",
       "      <td>0</td>\n",
       "      <td>0</td>\n",
       "      <td>0</td>\n",
       "      <td>0</td>\n",
       "      <td>0</td>\n",
       "      <td>0</td>\n",
       "      <td>0</td>\n",
       "      <td>0</td>\n",
       "    </tr>\n",
       "    <tr>\n",
       "      <th>27998</th>\n",
       "      <td>0</td>\n",
       "      <td>0</td>\n",
       "      <td>0</td>\n",
       "      <td>0</td>\n",
       "      <td>0</td>\n",
       "      <td>0</td>\n",
       "      <td>0</td>\n",
       "      <td>0</td>\n",
       "      <td>0</td>\n",
       "      <td>0</td>\n",
       "      <td>...</td>\n",
       "      <td>0</td>\n",
       "      <td>0</td>\n",
       "      <td>0</td>\n",
       "      <td>0</td>\n",
       "      <td>0</td>\n",
       "      <td>0</td>\n",
       "      <td>0</td>\n",
       "      <td>0</td>\n",
       "      <td>0</td>\n",
       "      <td>0</td>\n",
       "    </tr>\n",
       "    <tr>\n",
       "      <th>27999</th>\n",
       "      <td>0</td>\n",
       "      <td>0</td>\n",
       "      <td>0</td>\n",
       "      <td>0</td>\n",
       "      <td>0</td>\n",
       "      <td>0</td>\n",
       "      <td>0</td>\n",
       "      <td>0</td>\n",
       "      <td>0</td>\n",
       "      <td>0</td>\n",
       "      <td>...</td>\n",
       "      <td>0</td>\n",
       "      <td>0</td>\n",
       "      <td>0</td>\n",
       "      <td>0</td>\n",
       "      <td>0</td>\n",
       "      <td>0</td>\n",
       "      <td>0</td>\n",
       "      <td>0</td>\n",
       "      <td>0</td>\n",
       "      <td>0</td>\n",
       "    </tr>\n",
       "  </tbody>\n",
       "</table>\n",
       "<p>28000 rows × 784 columns</p>\n",
       "</div>"
      ],
      "text/plain": [
       "       pixel0  pixel1  pixel2  pixel3  pixel4  pixel5  pixel6  pixel7  pixel8  \\\n",
       "0           0       0       0       0       0       0       0       0       0   \n",
       "1           0       0       0       0       0       0       0       0       0   \n",
       "2           0       0       0       0       0       0       0       0       0   \n",
       "3           0       0       0       0       0       0       0       0       0   \n",
       "4           0       0       0       0       0       0       0       0       0   \n",
       "...       ...     ...     ...     ...     ...     ...     ...     ...     ...   \n",
       "27995       0       0       0       0       0       0       0       0       0   \n",
       "27996       0       0       0       0       0       0       0       0       0   \n",
       "27997       0       0       0       0       0       0       0       0       0   \n",
       "27998       0       0       0       0       0       0       0       0       0   \n",
       "27999       0       0       0       0       0       0       0       0       0   \n",
       "\n",
       "       pixel9  ...  pixel774  pixel775  pixel776  pixel777  pixel778  \\\n",
       "0           0  ...         0         0         0         0         0   \n",
       "1           0  ...         0         0         0         0         0   \n",
       "2           0  ...         0         0         0         0         0   \n",
       "3           0  ...         0         0         0         0         0   \n",
       "4           0  ...         0         0         0         0         0   \n",
       "...       ...  ...       ...       ...       ...       ...       ...   \n",
       "27995       0  ...         0         0         0         0         0   \n",
       "27996       0  ...         0         0         0         0         0   \n",
       "27997       0  ...         0         0         0         0         0   \n",
       "27998       0  ...         0         0         0         0         0   \n",
       "27999       0  ...         0         0         0         0         0   \n",
       "\n",
       "       pixel779  pixel780  pixel781  pixel782  pixel783  \n",
       "0             0         0         0         0         0  \n",
       "1             0         0         0         0         0  \n",
       "2             0         0         0         0         0  \n",
       "3             0         0         0         0         0  \n",
       "4             0         0         0         0         0  \n",
       "...         ...       ...       ...       ...       ...  \n",
       "27995         0         0         0         0         0  \n",
       "27996         0         0         0         0         0  \n",
       "27997         0         0         0         0         0  \n",
       "27998         0         0         0         0         0  \n",
       "27999         0         0         0         0         0  \n",
       "\n",
       "[28000 rows x 784 columns]"
      ]
     },
     "execution_count": 22,
     "metadata": {},
     "output_type": "execute_result"
    }
   ],
   "source": [
    "test_data"
   ]
  },
  {
   "cell_type": "code",
   "execution_count": 23,
   "id": "2fdf2a4e",
   "metadata": {},
   "outputs": [
    {
     "data": {
      "text/plain": [
       "[<matplotlib.lines.Line2D at 0x1ce00776ef0>]"
      ]
     },
     "execution_count": 23,
     "metadata": {},
     "output_type": "execute_result"
    },
    {
     "data": {
      "image/png": "[encoded data removed]",
      "text/plain": [
       "<Figure size 640x480 with 1 Axes>"
      ]
     },
     "metadata": {},
     "output_type": "display_data"
    }
   ],
   "source": [
    "plt.plot(history.history['loss'])\n",
    "plt.plot(history.history['val_loss'])"
   ]
  },
  {
   "cell_type": "code",
   "execution_count": 24,
   "id": "b10c42dd",
   "metadata": {},
   "outputs": [
    {
     "data": {
      "text/plain": [
       "[<matplotlib.lines.Line2D at 0x1ce007aec50>]"
      ]
     },
     "execution_count": 24,
     "metadata": {},
     "output_type": "execute_result"
    },
    {
     "data": {
      "image/png": "[encoded data removed]",
      "text/plain": [
       "<Figure size 640x480 with 1 Axes>"
      ]
     },
     "metadata": {},
     "output_type": "display_data"
    }
   ],
   "source": [
    "plt.plot(history.history['accuracy'])\n",
    "plt.plot(history.history['val_accuracy'])"
   ]
  },
  {
   "cell_type": "code",
   "execution_count": 25,
   "id": "b6cc25fa",
   "metadata": {},
   "outputs": [
    {
     "name": "stdout",
     "output_type": "stream",
     "text": [
      "875/875 [==============================] - 1s 1ms/step\n"
     ]
    }
   ],
   "source": [
    "y_prob=model.predict(np.array(test_data))"
   ]
  },
  {
   "cell_type": "code",
   "execution_count": 26,
   "id": "dce14cdf",
   "metadata": {},
   "outputs": [
    {
     "data": {
      "text/plain": [
       "array([[0., 0., 1., ..., 0., 0., 0.],\n",
       "       [1., 0., 0., ..., 0., 0., 0.],\n",
       "       [0., 0., 0., ..., 0., 0., 1.],\n",
       "       ...,\n",
       "       [0., 0., 0., ..., 0., 0., 0.],\n",
       "       [0., 0., 0., ..., 0., 0., 1.],\n",
       "       [0., 0., 1., ..., 0., 0., 0.]], dtype=float32)"
      ]
     },
     "execution_count": 26,
     "metadata": {},
     "output_type": "execute_result"
    }
   ],
   "source": [
    "y_prob"
   ]
  },
  {
   "cell_type": "code",
   "execution_count": 27,
   "id": "c8a752b8",
   "metadata": {},
   "outputs": [
    {
     "data": {
      "text/plain": [
       "<matplotlib.image.AxesImage at 0x1ce00908dc0>"
      ]
     },
     "execution_count": 27,
     "metadata": {},
     "output_type": "execute_result"
    },
    {
     "data": {
      "image/png": "[encoded data removed]",
      "text/plain": [
       "<Figure size 640x480 with 1 Axes>"
      ]
     },
     "metadata": {},
     "output_type": "display_data"
    }
   ],
   "source": [
    "plt.imshow(np.array(test_data.iloc[0]).reshape(28,28))"
   ]
  },
  {
   "cell_type": "code",
   "execution_count": 28,
   "id": "e62764e0",
   "metadata": {},
   "outputs": [
    {
     "data": {
      "text/plain": [
       "2"
      ]
     },
     "execution_count": 28,
     "metadata": {},
     "output_type": "execute_result"
    }
   ],
   "source": [
    "np.argmax(y_prob[0])"
   ]
  },
  {
   "cell_type": "code",
   "execution_count": 32,
   "id": "f3b52157",
   "metadata": {},
   "outputs": [
    {
     "data": {
      "text/plain": [
       "<matplotlib.image.AxesImage at 0x1ce6a72c7c0>"
      ]
     },
     "execution_count": 32,
     "metadata": {},
     "output_type": "execute_result"
    },
    {
     "data": {
      "image/png": "[encoded data removed]",
      "text/plain": [
       "<Figure size 640x480 with 1 Axes>"
      ]
     },
     "metadata": {},
     "output_type": "display_data"
    }
   ],
   "source": [
    "plt.imshow(np.array(test_data.iloc[45]).reshape(28,28))"
   ]
  },
  {
   "cell_type": "code",
   "execution_count": 33,
   "id": "f51554e5",
   "metadata": {},
   "outputs": [
    {
     "data": {
      "text/plain": [
       "7"
      ]
     },
     "execution_count": 33,
     "metadata": {},
     "output_type": "execute_result"
    }
   ],
   "source": [
    "np.argmax(y_prob[45])"
   ]
  },
  {
   "cell_type": "code",
   "execution_count": 34,
   "id": "cd471cf9",
   "metadata": {},
   "outputs": [
    {
     "data": {
      "text/plain": [
       "3"
      ]
     },
     "execution_count": 34,
     "metadata": {},
     "output_type": "execute_result"
    }
   ],
   "source": [
    "np.argmax(y_prob[415])"
   ]
  },
  {
   "cell_type": "code",
   "execution_count": 35,
   "id": "11bba3ee",
   "metadata": {},
   "outputs": [
    {
     "data": {
      "text/plain": [
       "<matplotlib.image.AxesImage at 0x1ce6a81bdc0>"
      ]
     },
     "execution_count": 35,
     "metadata": {},
     "output_type": "execute_result"
    },
    {
     "data": {
      "image/png": "[encoded data removed]",
      "text/plain": [
       "<Figure size 640x480 with 1 Axes>"
      ]
     },
     "metadata": {},
     "output_type": "display_data"
    }
   ],
   "source": [
    "plt.imshow(np.array(test_data.iloc[415]).reshape(28,28))"
   ]
  },
  {
   "cell_type": "code",
   "execution_count": null,
   "id": "a7c1b1f0",
   "metadata": {},
   "outputs": [],
   "source": []
  }
 ],
 "metadata": {
  "kernelspec": {
   "display_name": "Python 3 (ipykernel)",
   "language": "python",
   "name": "python3"
  },
  "language_info": {
   "codemirror_mode": {
    "name": "ipython",
    "version": 3
   },
   "file_extension": ".py",
   "mimetype": "text/x-python",
   "name": "python",
   "nbconvert_exporter": "python",
   "pygments_lexer": "ipython3",
   "version": "3.10.9"
  }
 },
 "nbformat": 4,
 "nbformat_minor": 5
}
